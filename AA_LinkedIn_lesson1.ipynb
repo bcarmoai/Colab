{
  "metadata": {
    "kernelspec": {
      "name": "python",
      "display_name": "Python (Pyodide)",
      "language": "python"
    },
    "language_info": {
      "codemirror_mode": {
        "name": "python",
        "version": 3
      },
      "file_extension": ".py",
      "mimetype": "text/x-python",
      "name": "python",
      "nbconvert_exporter": "python",
      "pygments_lexer": "ipython3",
      "version": "3.8"
    }
  },
  "nbformat_minor": 5,
  "nbformat": 4,
  "cells": [
    {
      "id": "d0d2ad08-ef0d-4436-8410-ed6530e1b6c7",
      "cell_type": "code",
      "source": "#LESSON 1\n\n#Control Stuctures: controls flow of executions\n# if statement, for loop and while loop",
      "metadata": {
        "trusted": true
      },
      "outputs": [],
      "execution_count": 11
    },
    {
      "id": "a6d1d630-2784-4765-9c4d-3a0212e3a2cc",
      "cell_type": "code",
      "source": "#if/else statements\n\nnum=7;\nif num > 10:\n    print(\"Greater\")\nelse:\n    print(\"Smaller\")",
      "metadata": {
        "trusted": true
      },
      "outputs": [
        {
          "name": "stdout",
          "output_type": "stream",
          "text": "Smaller\n"
        }
      ],
      "execution_count": 13
    },
    {
      "id": "8657594d-5ada-4bc3-877b-c28171ab9118",
      "cell_type": "code",
      "source": "#FOR loop\n\nfor i in range(5):\n    print(i)",
      "metadata": {
        "trusted": true
      },
      "outputs": [
        {
          "name": "stdout",
          "output_type": "stream",
          "text": "0\n1\n2\n3\n4\n"
        }
      ],
      "execution_count": 15
    },
    {
      "id": "c4bde371-6524-489b-bf08-0645c011278e",
      "cell_type": "code",
      "source": "#WHILE loop: repeats the block of code until the condition is false\n\nnumber=5;\nwhile(number >0):\n    print(number)\n    number= number-1",
      "metadata": {
        "trusted": true
      },
      "outputs": [
        {
          "name": "stdout",
          "output_type": "stream",
          "text": "5\n4\n3\n2\n1\n"
        }
      ],
      "execution_count": 17
    },
    {
      "id": "9a0bafe7-17f8-4646-b1aa-67146c48d173",
      "cell_type": "code",
      "source": "#Functions: resusuable pieces of code, using def keyword\n\n#defining the function without any parameters\ndef greet():\n    print(\"hello world\")",
      "metadata": {
        "trusted": true
      },
      "outputs": [],
      "execution_count": 21
    },
    {
      "id": "f95bdc54-cd1e-44d4-88d8-1763bbdccecc",
      "cell_type": "code",
      "source": "greet() #executing the function",
      "metadata": {
        "trusted": true
      },
      "outputs": [
        {
          "name": "stdout",
          "output_type": "stream",
          "text": "hello world\n"
        }
      ],
      "execution_count": 20
    },
    {
      "id": "cf33e0b3-d89e-45fa-aee4-288f472cf5ed",
      "cell_type": "code",
      "source": "def greet(name):\n    print(\"Hello \" + name)",
      "metadata": {
        "trusted": true
      },
      "outputs": [],
      "execution_count": 34
    },
    {
      "id": "571b5c13-f158-4e4e-b509-1c7d9e1026fd",
      "cell_type": "code",
      "source": "greet('John') #both single and double quotes work",
      "metadata": {
        "trusted": true
      },
      "outputs": [
        {
          "name": "stdout",
          "output_type": "stream",
          "text": "Hello John\n"
        }
      ],
      "execution_count": 30
    },
    {
      "id": "b2754c28-c290-4c2c-928c-acd9041be6f4",
      "cell_type": "code",
      "source": "greet(John) #throws error because its expecting a string as an argument",
      "metadata": {
        "trusted": true
      },
      "outputs": [
        {
          "ename": "<class 'NameError'>",
          "evalue": "name 'John' is not defined",
          "traceback": [
            "\u001b[0;31m---------------------------------------------------------------------------\u001b[0m",
            "\u001b[0;31mNameError\u001b[0m                                 Traceback (most recent call last)",
            "Cell \u001b[0;32mIn[32], line 1\u001b[0m\n\u001b[0;32m----> 1\u001b[0m greet(\u001b[43mJohn\u001b[49m) \u001b[38;5;66;03m#throws error because its expecting a string as an argument\u001b[39;00m\n",
            "\u001b[0;31mNameError\u001b[0m: name 'John' is not defined"
          ],
          "output_type": "error"
        }
      ],
      "execution_count": 32
    },
    {
      "id": "5c0dcf97-b9a2-45ca-9b22-d82e2114ca8b",
      "cell_type": "code",
      "source": "def add_and_sub(num1, num2, num3):\n    return num1+num2-num3",
      "metadata": {
        "trusted": true
      },
      "outputs": [],
      "execution_count": 35
    },
    {
      "id": "870321ed-9ede-48ff-adf5-02709b7c1a97",
      "cell_type": "code",
      "source": "add_and_sub(2,3,4) #the function is returning the result",
      "metadata": {
        "trusted": true
      },
      "outputs": [
        {
          "execution_count": 37,
          "output_type": "execute_result",
          "data": {
            "text/plain": "1"
          },
          "metadata": {}
        }
      ],
      "execution_count": 37
    },
    {
      "id": "cdc4e6e9-b074-4d21-92bb-00299feb1f98",
      "cell_type": "code",
      "source": "#Modules and packagaes: is like a toolbox",
      "metadata": {
        "trusted": true
      },
      "outputs": [],
      "execution_count": 39
    },
    {
      "id": "2fe6ad59-84ae-4578-aab0-4e79e328d326",
      "cell_type": "code",
      "source": "import math as mt",
      "metadata": {
        "trusted": true
      },
      "outputs": [],
      "execution_count": 41
    },
    {
      "id": "0d3affea-b5d9-47a6-9a9e-f3b00beaa202",
      "cell_type": "code",
      "source": "print(mt.sqrt(16))",
      "metadata": {
        "trusted": true
      },
      "outputs": [
        {
          "name": "stdout",
          "output_type": "stream",
          "text": "4.0\n"
        }
      ],
      "execution_count": 42
    },
    {
      "id": "5226f47c-591e-4a38-b6f8-1efed4b9fbe7",
      "cell_type": "code",
      "source": "#Packages: like a folder that contains multiple files, created by other developers and shared with the community",
      "metadata": {
        "trusted": true
      },
      "outputs": [],
      "execution_count": 43
    },
    {
      "id": "fb8ed69b-8baa-4d7f-8196-7f1a504e9d5e",
      "cell_type": "code",
      "source": "!pip install pandas #its already installed",
      "metadata": {
        "trusted": true
      },
      "outputs": [
        {
          "ename": "<class 'OSError'>",
          "evalue": "Not available",
          "traceback": [
            "\u001b[0;31m---------------------------------------------------------------------------\u001b[0m",
            "\u001b[0;31mOSError\u001b[0m                                   Traceback (most recent call last)",
            "Cell \u001b[0;32mIn[46], line 1\u001b[0m\n\u001b[0;32m----> 1\u001b[0m \u001b[43mget_ipython\u001b[49m\u001b[43m(\u001b[49m\u001b[43m)\u001b[49m\u001b[38;5;241;43m.\u001b[39;49m\u001b[43msystem\u001b[49m\u001b[43m(\u001b[49m\u001b[38;5;124;43m'\u001b[39;49m\u001b[38;5;124;43mpip install pandas #its already installed\u001b[39;49m\u001b[38;5;124;43m'\u001b[39;49m\u001b[43m)\u001b[49m\n",
            "File \u001b[0;32m/lib/python3.12/site-packages/IPython/core/interactiveshell.py:2653\u001b[0m, in \u001b[0;36mInteractiveShell.system_piped\u001b[0;34m(self, cmd)\u001b[0m\n\u001b[1;32m   2648\u001b[0m     \u001b[38;5;28;01mraise\u001b[39;00m \u001b[38;5;167;01mOSError\u001b[39;00m(\u001b[38;5;124m\"\u001b[39m\u001b[38;5;124mBackground processes not supported.\u001b[39m\u001b[38;5;124m\"\u001b[39m)\n\u001b[1;32m   2650\u001b[0m \u001b[38;5;66;03m# we explicitly do NOT return the subprocess status code, because\u001b[39;00m\n\u001b[1;32m   2651\u001b[0m \u001b[38;5;66;03m# a non-None value would trigger :func:`sys.displayhook` calls.\u001b[39;00m\n\u001b[1;32m   2652\u001b[0m \u001b[38;5;66;03m# Instead, we store the exit_code in user_ns.\u001b[39;00m\n\u001b[0;32m-> 2653\u001b[0m \u001b[38;5;28mself\u001b[39m\u001b[38;5;241m.\u001b[39muser_ns[\u001b[38;5;124m'\u001b[39m\u001b[38;5;124m_exit_code\u001b[39m\u001b[38;5;124m'\u001b[39m] \u001b[38;5;241m=\u001b[39m \u001b[43msystem\u001b[49m\u001b[43m(\u001b[49m\u001b[38;5;28;43mself\u001b[39;49m\u001b[38;5;241;43m.\u001b[39;49m\u001b[43mvar_expand\u001b[49m\u001b[43m(\u001b[49m\u001b[43mcmd\u001b[49m\u001b[43m,\u001b[49m\u001b[43m \u001b[49m\u001b[43mdepth\u001b[49m\u001b[38;5;241;43m=\u001b[39;49m\u001b[38;5;241;43m1\u001b[39;49m\u001b[43m)\u001b[49m\u001b[43m)\u001b[49m\n",
            "File \u001b[0;32m/lib/python3.12/site-packages/IPython/utils/_process_emscripten.py:11\u001b[0m, in \u001b[0;36msystem\u001b[0;34m(cmd)\u001b[0m\n\u001b[1;32m     10\u001b[0m \u001b[38;5;28;01mdef\u001b[39;00m \u001b[38;5;21msystem\u001b[39m(cmd):\n\u001b[0;32m---> 11\u001b[0m     \u001b[38;5;28;01mraise\u001b[39;00m \u001b[38;5;167;01mOSError\u001b[39;00m(\u001b[38;5;124m\"\u001b[39m\u001b[38;5;124mNot available\u001b[39m\u001b[38;5;124m\"\u001b[39m)\n",
            "\u001b[0;31mOSError\u001b[0m: Not available"
          ],
          "output_type": "error"
        }
      ],
      "execution_count": 46
    },
    {
      "id": "1a4135fd-e349-4683-842b-72f460d8d278",
      "cell_type": "code",
      "source": "import pandas as pd",
      "metadata": {
        "trusted": true
      },
      "outputs": [],
      "execution_count": 49
    },
    {
      "id": "0c6a4310-0781-4593-9353-dc2973a9b228",
      "cell_type": "code",
      "source": "data = {'name': ['John', 'Anna', 'Peter'], 'Age': [20,30,40] }\ndf=pd.DataFrame(data) #like a table\nprint(df)",
      "metadata": {
        "trusted": true
      },
      "outputs": [
        {
          "name": "stdout",
          "output_type": "stream",
          "text": "    name  Age\n0   John   20\n1   Anna   30\n2  Peter   40\n"
        }
      ],
      "execution_count": 54
    },
    {
      "id": "bd63b77e-4585-4556-9fd4-346edc152ed3",
      "cell_type": "code",
      "source": "#String Manipulation: sentence/word, sequence of characters, single and double quotes both work",
      "metadata": {
        "trusted": true
      },
      "outputs": [],
      "execution_count": 55
    },
    {
      "id": "0d91b3ba-e2f3-4ce1-b316-f82fcc26b980",
      "cell_type": "code",
      "source": "greeting = \"Hello data engineer!!\"\nprint(greeting)",
      "metadata": {
        "trusted": true
      },
      "outputs": [
        {
          "name": "stdout",
          "output_type": "stream",
          "text": "Hello data engineer!!\n"
        }
      ],
      "execution_count": 58
    },
    {
      "id": "e5fc058b-fd86-4699-84f2-3f9496a38093",
      "cell_type": "code",
      "source": "#concatenate\nname='John'\nmessage = greeting + \" \" + name\nprint(message)",
      "metadata": {
        "trusted": true
      },
      "outputs": [
        {
          "name": "stdout",
          "output_type": "stream",
          "text": "Hello data engineer!! John\n"
        }
      ],
      "execution_count": 63
    },
    {
      "id": "5d0cfe5e-1e00-44e9-855b-8e648e879f56",
      "cell_type": "code",
      "source": "#replace\nnew_string = greeting.replace('Hello', 'Hi')\nprint(new_string)",
      "metadata": {
        "trusted": true
      },
      "outputs": [
        {
          "name": "stdout",
          "output_type": "stream",
          "text": "Hi data engineer!!\n"
        }
      ],
      "execution_count": 66
    },
    {
      "id": "21879dd5-1b20-4d29-839e-0345c41981f6",
      "cell_type": "code",
      "source": "string = '     hello     world         '",
      "metadata": {
        "trusted": true
      },
      "outputs": [],
      "execution_count": 67
    },
    {
      "id": "0d46ca04-9deb-49d2-93f9-0c62e65d9261",
      "cell_type": "code",
      "source": "string",
      "metadata": {
        "trusted": true
      },
      "outputs": [
        {
          "execution_count": 68,
          "output_type": "execute_result",
          "data": {
            "text/plain": "'     hello     world         '"
          },
          "metadata": {}
        }
      ],
      "execution_count": 68
    },
    {
      "id": "f334848a-6ad0-454f-89e0-6b6e92919c45",
      "cell_type": "code",
      "source": "string.strip() #only removes leading and trailing spaces",
      "metadata": {
        "trusted": true
      },
      "outputs": [
        {
          "execution_count": 70,
          "output_type": "execute_result",
          "data": {
            "text/plain": "'hello     world'"
          },
          "metadata": {}
        }
      ],
      "execution_count": 70
    },
    {
      "id": "3c9cdd5c-4664-4b72-8706-a012b94eaef6",
      "cell_type": "code",
      "source": "index = greeting.find('data')",
      "metadata": {
        "trusted": true
      },
      "outputs": [],
      "execution_count": 72
    },
    {
      "id": "75b4acfc-c4e1-467d-8a64-6194ebb0f630",
      "cell_type": "code",
      "source": "print(index) #prints index position of the string",
      "metadata": {
        "trusted": true
      },
      "outputs": [
        {
          "name": "stdout",
          "output_type": "stream",
          "text": "6\n"
        }
      ],
      "execution_count": 73
    },
    {
      "id": "9eb47d88-db2a-458f-991a-da93f0ce5b83",
      "cell_type": "code",
      "source": "template= 'hello {}'\ntemplate.format('Shawn')",
      "metadata": {
        "trusted": true
      },
      "outputs": [
        {
          "execution_count": 80,
          "output_type": "execute_result",
          "data": {
            "text/plain": "'hello Shawn'"
          },
          "metadata": {}
        }
      ],
      "execution_count": 80
    },
    {
      "id": "7e6a9486-e8ce-4b33-b9f5-9f2a9fa44633",
      "cell_type": "code",
      "source": "#other methods upper() lower()\ngreeting.upper()",
      "metadata": {
        "trusted": true
      },
      "outputs": [
        {
          "execution_count": 77,
          "output_type": "execute_result",
          "data": {
            "text/plain": "'HELLO DATA ENGINEER!!'"
          },
          "metadata": {}
        }
      ],
      "execution_count": 77
    },
    {
      "id": "a06db528-0d46-4d81-8b54-f50497c2e63a",
      "cell_type": "code",
      "source": "words = greeting.split()\nprint(words)",
      "metadata": {
        "trusted": true
      },
      "outputs": [
        {
          "name": "stdout",
          "output_type": "stream",
          "text": "['Hello', 'data', 'engineer!!']\n"
        }
      ],
      "execution_count": 78
    },
    {
      "id": "bab12644-d316-4d2d-8094-e3e069f79373",
      "cell_type": "code",
      "source": "#Error Handling in Python",
      "metadata": {
        "trusted": true
      },
      "outputs": [],
      "execution_count": 79
    },
    {
      "id": "16d00e6a-079d-4aeb-99b7-56925ae100d8",
      "cell_type": "code",
      "source": "print(10/0) #what if you dont want your program to crash therefore we need error handling",
      "metadata": {
        "trusted": true
      },
      "outputs": [
        {
          "ename": "<class 'ZeroDivisionError'>",
          "evalue": "division by zero",
          "traceback": [
            "\u001b[0;31m---------------------------------------------------------------------------\u001b[0m",
            "\u001b[0;31mZeroDivisionError\u001b[0m                         Traceback (most recent call last)",
            "Cell \u001b[0;32mIn[82], line 1\u001b[0m\n\u001b[0;32m----> 1\u001b[0m \u001b[38;5;28mprint\u001b[39m(\u001b[38;5;241;43m10\u001b[39;49m\u001b[38;5;241;43m/\u001b[39;49m\u001b[38;5;241;43m0\u001b[39;49m) \u001b[38;5;66;03m#what if you dont want your program to crash therefore we need error handling\u001b[39;00m\n",
            "\u001b[0;31mZeroDivisionError\u001b[0m: division by zero"
          ],
          "output_type": "error"
        }
      ],
      "execution_count": 82
    },
    {
      "id": "3dca36cf-5069-4c36-a6c6-ccbc82f41d9b",
      "cell_type": "code",
      "source": "#handle zero division error\ntry:\n    print(10/0)\nexcept ZeroDivisionError: #this is an error type\n    print('Sorry, you are dividing by zero')",
      "metadata": {
        "trusted": true
      },
      "outputs": [
        {
          "name": "stdout",
          "output_type": "stream",
          "text": "Sorry, you are dividing by zero\n"
        }
      ],
      "execution_count": 84
    },
    {
      "id": "0056409e-dfa5-4578-903f-76f0c968d89d",
      "cell_type": "code",
      "source": "try:\n    print(10/0)\nexcept: #general error handling\n    print('Sorry, you are dividing by zero')",
      "metadata": {
        "trusted": true
      },
      "outputs": [
        {
          "name": "stdout",
          "output_type": "stream",
          "text": "Sorry, you are dividing by zero\n"
        }
      ],
      "execution_count": 87
    },
    {
      "id": "1eb9398b-7988-4648-8324-23a12410b5dd",
      "cell_type": "code",
      "source": "try:\n    print(10/2)\nexcept: #general error handling\n    print('Sorry, you are dividing by zero')\nelse: \n    print('Nothing wrong happened')\nfinally:\n    print('Execute always') #very useful in file read/write put connection close",
      "metadata": {
        "trusted": true
      },
      "outputs": [
        {
          "name": "stdout",
          "output_type": "stream",
          "text": "5.0\nNothing wrong happened\nExecute always\n"
        }
      ],
      "execution_count": 91
    },
    {
      "id": "60eaf1f1-6054-4c28-a316-bd53a4b9936a",
      "cell_type": "code",
      "source": "#printing reverse of a string\n\nstring=\"hello\"\n\nfor i in range(5):\n    print(string[i])\n",
      "metadata": {
        "trusted": true
      },
      "outputs": [
        {
          "name": "stdout",
          "output_type": "stream",
          "text": "h\ne\nl\nl\no\n"
        }
      ],
      "execution_count": 98
    },
    {
      "id": "bcc4574d-0314-4b11-804c-1b4e96e74fe6",
      "cell_type": "code",
      "source": "string1= 'World'\n",
      "metadata": {
        "trusted": true
      },
      "outputs": [],
      "execution_count": 99
    },
    {
      "id": "9b4058da-51be-49aa-bac2-6a585dbef5d8",
      "cell_type": "code",
      "source": "",
      "metadata": {
        "trusted": true
      },
      "outputs": [],
      "execution_count": null
    }
  ]
}