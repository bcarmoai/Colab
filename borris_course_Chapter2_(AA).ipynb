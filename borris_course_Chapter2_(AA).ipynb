{
  "nbformat": 4,
  "nbformat_minor": 0,
  "metadata": {
    "colab": {
      "provenance": [],
      "collapsed_sections": [
        "OT_Bc1DGem7W",
        "m6LjrW9loW2i",
        "JIeU7dfVvibn",
        "QDMFUAcXuZcj",
        "BBrcNu7IxZ7x",
        "hRd9QewUz_TA",
        "PN9sODjj-1jb",
        "G5yKqYSMErd7",
        "9um3RWz2I82d",
        "E-wvrP3DQO1m",
        "jDh3gugpkeDx"
      ],
      "authorship_tag": "ABX9TyN9At0XqyfW8Dm+jftgEBDa",
      "include_colab_link": true
    },
    "kernelspec": {
      "name": "python3",
      "display_name": "Python 3"
    },
    "language_info": {
      "name": "python"
    }
  },
  "cells": [
    {
      "cell_type": "markdown",
      "metadata": {
        "id": "view-in-github",
        "colab_type": "text"
      },
      "source": [
        "<a href=\"https://colab.research.google.com/github/bcarmoai/Colab/blob/main/borris_course_Chapter2_(AA).ipynb\" target=\"_parent\"><img src=\"https://colab.research.google.com/assets/colab-badge.svg\" alt=\"Open In Colab\"/></a>"
      ]
    },
    {
      "cell_type": "markdown",
      "source": [
        "**Chapter 2:** Python Crash Course"
      ],
      "metadata": {
        "id": "stBtb5tneX2n"
      }
    },
    {
      "cell_type": "markdown",
      "source": [
        "#Comments\n",
        "* a comment is a line of text ignored by python\n",
        "* use a hastag(#) to create a comment"
      ],
      "metadata": {
        "id": "OT_Bc1DGem7W"
      }
    },
    {
      "cell_type": "code",
      "execution_count": null,
      "metadata": {
        "id": "r-hl1sljeV3x"
      },
      "outputs": [],
      "source": [
        "# 3+3"
      ]
    },
    {
      "cell_type": "markdown",
      "source": [
        "* shortcut to create a comment is ctrl+/"
      ],
      "metadata": {
        "id": "Z0U-FpqCnm1V"
      }
    },
    {
      "cell_type": "code",
      "source": [
        "# 3+3\n",
        " 4+4"
      ],
      "metadata": {
        "colab": {
          "base_uri": "https://localhost:8080/",
          "height": 106
        },
        "id": "xEVReJf9njw9",
        "outputId": "73745f84-5706-4d3a-bcf8-5761bf28f75f"
      },
      "execution_count": null,
      "outputs": [
        {
          "output_type": "error",
          "ename": "IndentationError",
          "evalue": "unexpected indent (<ipython-input-7-c058346debe2>, line 2)",
          "traceback": [
            "\u001b[0;36m  File \u001b[0;32m\"<ipython-input-7-c058346debe2>\"\u001b[0;36m, line \u001b[0;32m2\u001b[0m\n\u001b[0;31m    4+4\u001b[0m\n\u001b[0m    ^\u001b[0m\n\u001b[0;31mIndentationError\u001b[0m\u001b[0;31m:\u001b[0m unexpected indent\n"
          ]
        }
      ]
    },
    {
      "cell_type": "code",
      "source": [
        "4 + 4"
      ],
      "metadata": {
        "colab": {
          "base_uri": "https://localhost:8080/"
        },
        "id": "lnEf3HH2nwz8",
        "outputId": "e4e2460a-e85f-47ff-997b-f9752ebe94a7"
      },
      "execution_count": null,
      "outputs": [
        {
          "output_type": "execute_result",
          "data": {
            "text/plain": [
              "8"
            ]
          },
          "metadata": {},
          "execution_count": 8
        }
      ]
    },
    {
      "cell_type": "markdown",
      "source": [
        "#Basic Data Types\n",
        "* Integers: wnumbers without fractional component\n",
        "* Floating point number: number with fractional component.For example 3.14\n",
        "* String: piece of text or collection of characters. Anything in double codes like \"Mango\". Can use souble or single quotes but stay consistent. Output is with single quote."
      ],
      "metadata": {
        "id": "m6LjrW9loW2i"
      }
    },
    {
      "cell_type": "code",
      "source": [
        "\"Borris0\""
      ],
      "metadata": {
        "id": "-NhY8EFWoZvz",
        "colab": {
          "base_uri": "https://localhost:8080/",
          "height": 35
        },
        "outputId": "d7106d2e-2c71-4bad-9382-0a3b727aacd7"
      },
      "execution_count": null,
      "outputs": [
        {
          "output_type": "execute_result",
          "data": {
            "text/plain": [
              "'Borris0'"
            ],
            "application/vnd.google.colaboratory.intrinsic+json": {
              "type": "string"
            }
          },
          "metadata": {},
          "execution_count": 1
        }
      ]
    },
    {
      "cell_type": "code",
      "source": [
        "1.399 + 4.51"
      ],
      "metadata": {
        "colab": {
          "base_uri": "https://localhost:8080/"
        },
        "id": "4kXPQnidukBP",
        "outputId": "ea5ac73d-6d4d-4e99-8176-c44b427bb63b"
      },
      "execution_count": null,
      "outputs": [
        {
          "output_type": "execute_result",
          "data": {
            "text/plain": [
              "5.909"
            ]
          },
          "metadata": {},
          "execution_count": 2
        }
      ]
    },
    {
      "cell_type": "code",
      "source": [
        "\"139.99\" + 4.15"
      ],
      "metadata": {
        "colab": {
          "base_uri": "https://localhost:8080/",
          "height": 141
        },
        "id": "wRzICG4kutpA",
        "outputId": "3fbed5bc-df94-4945-da15-8f0ec0131246"
      },
      "execution_count": null,
      "outputs": [
        {
          "output_type": "error",
          "ename": "TypeError",
          "evalue": "can only concatenate str (not \"float\") to str",
          "traceback": [
            "\u001b[0;31m---------------------------------------------------------------------------\u001b[0m",
            "\u001b[0;31mTypeError\u001b[0m                                 Traceback (most recent call last)",
            "\u001b[0;32m<ipython-input-3-51ce3e4fff5f>\u001b[0m in \u001b[0;36m<cell line: 1>\u001b[0;34m()\u001b[0m\n\u001b[0;32m----> 1\u001b[0;31m \u001b[0;34m\"139.99\"\u001b[0m \u001b[0;34m+\u001b[0m \u001b[0;36m4.15\u001b[0m\u001b[0;34m\u001b[0m\u001b[0;34m\u001b[0m\u001b[0m\n\u001b[0m",
            "\u001b[0;31mTypeError\u001b[0m: can only concatenate str (not \"float\") to str"
          ]
        }
      ]
    },
    {
      "cell_type": "code",
      "source": [
        "\"Aishwarya\" + \" Arora\""
      ],
      "metadata": {
        "colab": {
          "base_uri": "https://localhost:8080/",
          "height": 35
        },
        "id": "Wr8v6PT5u07G",
        "outputId": "9ff541ea-a041-455b-faef-99ffc28c9404"
      },
      "execution_count": null,
      "outputs": [
        {
          "output_type": "execute_result",
          "data": {
            "text/plain": [
              "'Aishwarya Arora'"
            ],
            "application/vnd.google.colaboratory.intrinsic+json": {
              "type": "string"
            }
          },
          "metadata": {},
          "execution_count": 5
        }
      ]
    },
    {
      "cell_type": "markdown",
      "source": [
        "* Empty string : string without any character but it also valid"
      ],
      "metadata": {
        "id": "hNo7Luh9vRAO"
      }
    },
    {
      "cell_type": "code",
      "source": [
        "\" \""
      ],
      "metadata": {
        "colab": {
          "base_uri": "https://localhost:8080/",
          "height": 35
        },
        "id": "b6HzTkVivQpo",
        "outputId": "b21f6452-d4e6-400c-c678-78c5d9d10a09"
      },
      "execution_count": null,
      "outputs": [
        {
          "output_type": "execute_result",
          "data": {
            "text/plain": [
              "' '"
            ],
            "application/vnd.google.colaboratory.intrinsic+json": {
              "type": "string"
            }
          },
          "metadata": {},
          "execution_count": 6
        }
      ]
    },
    {
      "cell_type": "markdown",
      "source": [
        "* Boolean Type: George Boole\n",
        "- True\n",
        "- False"
      ],
      "metadata": {
        "id": "wOyJ6AdEvnVc"
      }
    },
    {
      "cell_type": "markdown",
      "source": [
        "* None represent nullness/absence/missing of a value\n",
        "* a library like pandas adds more complex data types;\n"
      ],
      "metadata": {
        "id": "lSXV3_xdvKTP"
      }
    },
    {
      "cell_type": "markdown",
      "source": [
        "#Operators\n",
        "* an operator is a symbol that performs some sort of operation, as simple as +\n",
        "* concatenation- combining two strings together\n",
        "* can use asterisk with string * number\n",
        "* PEMDAS : Paranthesis, exponents, mul/div, add/sub = BODMAS\n",
        "* Division is a / it will result into floating point value and not an integer\n",
        "* Floor division- leaves out the floatng-point , just use //\n",
        "* Modulo operator - returns the remainder of the division; %\n",
        "* logical based operators:\n",
        " * Equality operator- checkif two values are equal : answer is boolean; ==; it will sometime ignore datatype if they are logically equal.\n",
        " * Strings - depends on case sensitivity;\n",
        " * Inequality operator - checs if two values are NOT equal; !=\n",
        " * <,<=,>,>=\n",
        "\n",
        "\n"
      ],
      "metadata": {
        "id": "JIeU7dfVvibn"
      }
    },
    {
      "cell_type": "code",
      "source": [
        " 5 + 3"
      ],
      "metadata": {
        "id": "gu_moFWovl1z",
        "colab": {
          "base_uri": "https://localhost:8080/"
        },
        "outputId": "52df8f12-ff6c-40fe-8d6d-02ce0fc12743"
      },
      "execution_count": 4,
      "outputs": [
        {
          "output_type": "execute_result",
          "data": {
            "text/plain": [
              "8"
            ]
          },
          "metadata": {},
          "execution_count": 4
        }
      ]
    },
    {
      "cell_type": "code",
      "source": [
        "\"race\" + \"car\""
      ],
      "metadata": {
        "colab": {
          "base_uri": "https://localhost:8080/",
          "height": 0
        },
        "id": "i3vrveLlvOQE",
        "outputId": "86a45b50-6d49-4d59-8e41-b8445da42e6c"
      },
      "execution_count": 7,
      "outputs": [
        {
          "output_type": "execute_result",
          "data": {
            "text/plain": [
              "'racecar'"
            ],
            "application/vnd.google.colaboratory.intrinsic+json": {
              "type": "string"
            }
          },
          "metadata": {},
          "execution_count": 7
        }
      ]
    },
    {
      "cell_type": "code",
      "source": [
        "5 - 10"
      ],
      "metadata": {
        "colab": {
          "base_uri": "https://localhost:8080/"
        },
        "id": "7dRYKDa4wKlE",
        "outputId": "afd0d1f4-0804-44d5-9031-3c20f61ce446"
      },
      "execution_count": 8,
      "outputs": [
        {
          "output_type": "execute_result",
          "data": {
            "text/plain": [
              "-5"
            ]
          },
          "metadata": {},
          "execution_count": 8
        }
      ]
    },
    {
      "cell_type": "code",
      "source": [
        "4 * 3"
      ],
      "metadata": {
        "colab": {
          "base_uri": "https://localhost:8080/"
        },
        "id": "43LorgnTwkcg",
        "outputId": "8e205ff0-aab0-4b49-8dc8-70798eb6e2c2"
      },
      "execution_count": 9,
      "outputs": [
        {
          "output_type": "execute_result",
          "data": {
            "text/plain": [
              "12"
            ]
          },
          "metadata": {},
          "execution_count": 9
        }
      ]
    },
    {
      "cell_type": "code",
      "source": [
        "\"mahi\" * 5"
      ],
      "metadata": {
        "colab": {
          "base_uri": "https://localhost:8080/",
          "height": 0
        },
        "id": "bLsCvf7VwmG7",
        "outputId": "e816d237-b838-4456-a85b-aafe1704d3a1"
      },
      "execution_count": 10,
      "outputs": [
        {
          "output_type": "execute_result",
          "data": {
            "text/plain": [
              "'mahimahimahimahimahi'"
            ],
            "application/vnd.google.colaboratory.intrinsic+json": {
              "type": "string"
            }
          },
          "metadata": {},
          "execution_count": 10
        }
      ]
    },
    {
      "cell_type": "code",
      "source": [
        "3 + 4 * 5\n",
        "(3+4)*5"
      ],
      "metadata": {
        "colab": {
          "base_uri": "https://localhost:8080/"
        },
        "id": "nLJMrfQdwxAL",
        "outputId": "e0726387-b1be-4975-9cc2-89aa85da577e"
      },
      "execution_count": 3,
      "outputs": [
        {
          "output_type": "execute_result",
          "data": {
            "text/plain": [
              "35"
            ]
          },
          "metadata": {},
          "execution_count": 3
        }
      ]
    },
    {
      "cell_type": "code",
      "source": [
        "10 / 3"
      ],
      "metadata": {
        "colab": {
          "base_uri": "https://localhost:8080/"
        },
        "id": "XjWE88sbp1aO",
        "outputId": "2c69aae1-574d-421c-c802-d4b218ba8074"
      },
      "execution_count": 4,
      "outputs": [
        {
          "output_type": "execute_result",
          "data": {
            "text/plain": [
              "3.3333333333333335"
            ]
          },
          "metadata": {},
          "execution_count": 4
        }
      ]
    },
    {
      "cell_type": "code",
      "source": [
        "10 // 3"
      ],
      "metadata": {
        "colab": {
          "base_uri": "https://localhost:8080/"
        },
        "id": "dIOlACTaqZ3e",
        "outputId": "17eb8389-fcd8-4584-a67b-e8cf2539cb87"
      },
      "execution_count": 5,
      "outputs": [
        {
          "output_type": "execute_result",
          "data": {
            "text/plain": [
              "3"
            ]
          },
          "metadata": {},
          "execution_count": 5
        }
      ]
    },
    {
      "cell_type": "code",
      "source": [
        "14 % 3"
      ],
      "metadata": {
        "colab": {
          "base_uri": "https://localhost:8080/"
        },
        "id": "eZj2CO2oqmYy",
        "outputId": "61afd51c-a9a6-4c64-a852-72eaae6026c9"
      },
      "execution_count": 6,
      "outputs": [
        {
          "output_type": "execute_result",
          "data": {
            "text/plain": [
              "2"
            ]
          },
          "metadata": {},
          "execution_count": 6
        }
      ]
    },
    {
      "cell_type": "code",
      "source": [
        "15 % 3"
      ],
      "metadata": {
        "colab": {
          "base_uri": "https://localhost:8080/"
        },
        "id": "Yywch6a1qwXv",
        "outputId": "ca11f561-0b4a-4314-eba2-8d03ada2b45d"
      },
      "execution_count": 7,
      "outputs": [
        {
          "output_type": "execute_result",
          "data": {
            "text/plain": [
              "0"
            ]
          },
          "metadata": {},
          "execution_count": 7
        }
      ]
    },
    {
      "cell_type": "code",
      "source": [
        "1 == 1"
      ],
      "metadata": {
        "colab": {
          "base_uri": "https://localhost:8080/"
        },
        "id": "hUIwd4VVrF3Q",
        "outputId": "9e81afa3-842e-44f4-f226-bfcd99e6f611"
      },
      "execution_count": 8,
      "outputs": [
        {
          "output_type": "execute_result",
          "data": {
            "text/plain": [
              "True"
            ]
          },
          "metadata": {},
          "execution_count": 8
        }
      ]
    },
    {
      "cell_type": "code",
      "source": [
        "1 == 2"
      ],
      "metadata": {
        "colab": {
          "base_uri": "https://localhost:8080/"
        },
        "id": "E-IC-LZTrGoV",
        "outputId": "ac9e26f3-94de-4981-8472-e538b311ff50"
      },
      "execution_count": 9,
      "outputs": [
        {
          "output_type": "execute_result",
          "data": {
            "text/plain": [
              "False"
            ]
          },
          "metadata": {},
          "execution_count": 9
        }
      ]
    },
    {
      "cell_type": "code",
      "source": [
        "5 == 5.0"
      ],
      "metadata": {
        "colab": {
          "base_uri": "https://localhost:8080/"
        },
        "id": "7jZ-8DB9rLjr",
        "outputId": "b6ac309b-a23b-4839-e84c-5997ea0df19d"
      },
      "execution_count": 10,
      "outputs": [
        {
          "output_type": "execute_result",
          "data": {
            "text/plain": [
              "True"
            ]
          },
          "metadata": {},
          "execution_count": 10
        }
      ]
    },
    {
      "cell_type": "code",
      "source": [
        "\"Hello\" == \"hello\""
      ],
      "metadata": {
        "colab": {
          "base_uri": "https://localhost:8080/"
        },
        "id": "T02DFUU3rVAP",
        "outputId": "982acbb3-b6b9-425b-a37f-46935f96f296"
      },
      "execution_count": 11,
      "outputs": [
        {
          "output_type": "execute_result",
          "data": {
            "text/plain": [
              "False"
            ]
          },
          "metadata": {},
          "execution_count": 11
        }
      ]
    },
    {
      "cell_type": "code",
      "source": [
        "\"Hello\" == \"Hello \""
      ],
      "metadata": {
        "colab": {
          "base_uri": "https://localhost:8080/"
        },
        "id": "gJCRXz4crePT",
        "outputId": "f7bc3274-c6b8-43f7-eb3d-682e01615a56"
      },
      "execution_count": 13,
      "outputs": [
        {
          "output_type": "execute_result",
          "data": {
            "text/plain": [
              "False"
            ]
          },
          "metadata": {},
          "execution_count": 13
        }
      ]
    },
    {
      "cell_type": "code",
      "source": [
        "5 != 10"
      ],
      "metadata": {
        "colab": {
          "base_uri": "https://localhost:8080/"
        },
        "id": "AAz3-klYrgro",
        "outputId": "5f664ab5-ee62-4c7a-dcdd-9cda303c3fb0"
      },
      "execution_count": 14,
      "outputs": [
        {
          "output_type": "execute_result",
          "data": {
            "text/plain": [
              "True"
            ]
          },
          "metadata": {},
          "execution_count": 14
        }
      ]
    },
    {
      "cell_type": "code",
      "source": [
        "5 != 5.0"
      ],
      "metadata": {
        "colab": {
          "base_uri": "https://localhost:8080/"
        },
        "id": "6pL8dB1wtiLc",
        "outputId": "69c274bf-fa54-4a21-e910-ebe5dbe0922d"
      },
      "execution_count": 16,
      "outputs": [
        {
          "output_type": "execute_result",
          "data": {
            "text/plain": [
              "False"
            ]
          },
          "metadata": {},
          "execution_count": 16
        }
      ]
    },
    {
      "cell_type": "code",
      "source": [
        " 5 <= 8"
      ],
      "metadata": {
        "colab": {
          "base_uri": "https://localhost:8080/"
        },
        "id": "Ut8vmlPYtkaR",
        "outputId": "39eb8f72-87af-408e-bdd3-5c04513910a2"
      },
      "execution_count": 19,
      "outputs": [
        {
          "output_type": "execute_result",
          "data": {
            "text/plain": [
              "True"
            ]
          },
          "metadata": {},
          "execution_count": 19
        }
      ]
    },
    {
      "cell_type": "markdown",
      "source": [
        "#Variables\n",
        "* a variabe is a name for a value in your program. It is a placeholder for the value\n",
        "* the value that a variable represents can vary over a program\n",
        "* = is an assignment operator\n",
        "* snake case formatting; use underscore with every word; like snake_case_format\n",
        "* python always evaluates right hand side of assignment operator first and then assigns the value to the left\n",
        "* a way to restart kernel is colab is go to Runtime>Restart Session"
      ],
      "metadata": {
        "id": "QDMFUAcXuZcj"
      }
    },
    {
      "cell_type": "code",
      "source": [
        "age = 32"
      ],
      "metadata": {
        "id": "JCFTZAhYt_1l"
      },
      "execution_count": 2,
      "outputs": []
    },
    {
      "cell_type": "code",
      "source": [
        "age\n",
        "age  + 5"
      ],
      "metadata": {
        "colab": {
          "base_uri": "https://localhost:8080/"
        },
        "id": "jp4nxEXpu1I9",
        "outputId": "1b34c5d5-ae04-4d4e-a5e8-0230aba036e1"
      },
      "execution_count": 3,
      "outputs": [
        {
          "output_type": "execute_result",
          "data": {
            "text/plain": [
              "37"
            ]
          },
          "metadata": {},
          "execution_count": 3
        }
      ]
    },
    {
      "cell_type": "code",
      "source": [
        "price = 19.99\n",
        "profession = \"Software Engineer\"\n",
        "first_name = \"Aishwarya\"\n",
        "is_awesome = True"
      ],
      "metadata": {
        "id": "5t7eKiZ3u888"
      },
      "execution_count": 4,
      "outputs": []
    },
    {
      "cell_type": "code",
      "source": [
        "price\n",
        "first_name + \" is the best\""
      ],
      "metadata": {
        "colab": {
          "base_uri": "https://localhost:8080/",
          "height": 0
        },
        "id": "EEQSi9mQvkNm",
        "outputId": "4147de3a-8598-4088-fe73-32627a0599ef"
      },
      "execution_count": 5,
      "outputs": [
        {
          "output_type": "execute_result",
          "data": {
            "text/plain": [
              "'Aishwarya is the best'"
            ],
            "application/vnd.google.colaboratory.intrinsic+json": {
              "type": "string"
            }
          },
          "metadata": {},
          "execution_count": 5
        }
      ]
    },
    {
      "cell_type": "code",
      "source": [
        "profession = \"Analyst\""
      ],
      "metadata": {
        "id": "muVROflQvy1p"
      },
      "execution_count": 6,
      "outputs": []
    },
    {
      "cell_type": "code",
      "source": [
        "profession"
      ],
      "metadata": {
        "colab": {
          "base_uri": "https://localhost:8080/",
          "height": 0
        },
        "id": "kgj8GP56wBWM",
        "outputId": "38330edb-75fb-4859-c7a8-3f1f55efdb17"
      },
      "execution_count": 7,
      "outputs": [
        {
          "output_type": "execute_result",
          "data": {
            "text/plain": [
              "'Analyst'"
            ],
            "application/vnd.google.colaboratory.intrinsic+json": {
              "type": "string"
            }
          },
          "metadata": {},
          "execution_count": 7
        }
      ]
    },
    {
      "cell_type": "code",
      "source": [
        "age = age + 5"
      ],
      "metadata": {
        "id": "4GgUBxbUwI_9"
      },
      "execution_count": 8,
      "outputs": []
    },
    {
      "cell_type": "code",
      "source": [
        "age"
      ],
      "metadata": {
        "colab": {
          "base_uri": "https://localhost:8080/"
        },
        "id": "jWG2ktJFwO_k",
        "outputId": "a4622525-45fd-458e-8d66-9bd032085e90"
      },
      "execution_count": 37,
      "outputs": [
        {
          "output_type": "execute_result",
          "data": {
            "text/plain": [
              "42"
            ]
          },
          "metadata": {},
          "execution_count": 37
        }
      ]
    },
    {
      "cell_type": "markdown",
      "source": [
        "#Built-in Functions\n",
        "* A function is a repeatable procedure\n",
        "* A function accepts inputs(which are called arguments)\n",
        "* A function produces a return value, which is the \"output\" of the function\n",
        "* Technical term for running/executing a function is \"invoking\" or \"calling\""
      ],
      "metadata": {
        "id": "BBrcNu7IxZ7x"
      }
    },
    {
      "cell_type": "code",
      "source": [
        "len(\"Boris\") #5\n",
        "len(\"Boris Course\") #12\n",
        "len(\"  \") #2\n",
        "len(\"\") #0"
      ],
      "metadata": {
        "colab": {
          "base_uri": "https://localhost:8080/"
        },
        "id": "0m1PmQJ4wdEe",
        "outputId": "68995e79-8d0d-4680-c965-9b4b819ab72c"
      },
      "execution_count": 16,
      "outputs": [
        {
          "output_type": "execute_result",
          "data": {
            "text/plain": [
              "0"
            ]
          },
          "metadata": {},
          "execution_count": 16
        }
      ]
    },
    {
      "cell_type": "code",
      "source": [
        "str(3.14) #conversion function; convert that value to string\n",
        "int(\"A\") #conversion function; convert that value to integer"
      ],
      "metadata": {
        "colab": {
          "base_uri": "https://localhost:8080/",
          "height": 159
        },
        "id": "24m7ek1AyJbY",
        "outputId": "485da758-67ff-4195-9819-1be92667f334"
      },
      "execution_count": 24,
      "outputs": [
        {
          "output_type": "error",
          "ename": "ValueError",
          "evalue": "invalid literal for int() with base 10: 'A'",
          "traceback": [
            "\u001b[0;31m---------------------------------------------------------------------------\u001b[0m",
            "\u001b[0;31mValueError\u001b[0m                                Traceback (most recent call last)",
            "\u001b[0;32m<ipython-input-24-0b3d56738432>\u001b[0m in \u001b[0;36m<cell line: 2>\u001b[0;34m()\u001b[0m\n\u001b[1;32m      1\u001b[0m \u001b[0mstr\u001b[0m\u001b[0;34m(\u001b[0m\u001b[0;36m3.14\u001b[0m\u001b[0;34m)\u001b[0m \u001b[0;31m#conversion function; convert that value to string\u001b[0m\u001b[0;34m\u001b[0m\u001b[0;34m\u001b[0m\u001b[0m\n\u001b[0;32m----> 2\u001b[0;31m \u001b[0mint\u001b[0m\u001b[0;34m(\u001b[0m\u001b[0;34m\"A\"\u001b[0m\u001b[0;34m)\u001b[0m \u001b[0;31m#conversion function; convert that value to string\u001b[0m\u001b[0;34m\u001b[0m\u001b[0;34m\u001b[0m\u001b[0m\n\u001b[0m",
            "\u001b[0;31mValueError\u001b[0m: invalid literal for int() with base 10: 'A'"
          ]
        }
      ]
    },
    {
      "cell_type": "code",
      "source": [
        "int(\"10\")\n",
        "float(\"9.384\") #conversion function; convert that value to float"
      ],
      "metadata": {
        "colab": {
          "base_uri": "https://localhost:8080/"
        },
        "id": "PqYgw-9Sy_II",
        "outputId": "7862a5b1-2581-4098-d572-ca34cf3dd146"
      },
      "execution_count": 27,
      "outputs": [
        {
          "output_type": "execute_result",
          "data": {
            "text/plain": [
              "9.384"
            ]
          },
          "metadata": {},
          "execution_count": 27
        }
      ]
    },
    {
      "cell_type": "code",
      "source": [
        "type(5)\n",
        "type(3.14)\n",
        "type(\"PlayStation\")\n",
        "type(-32)\n",
        "type(True)\n",
        "type(true) # won't work since case sensitive"
      ],
      "metadata": {
        "colab": {
          "base_uri": "https://localhost:8080/",
          "height": 176
        },
        "id": "WcDbvmqTzFDG",
        "outputId": "d44c7691-f535-47d7-f39a-664ae6f4bde0"
      },
      "execution_count": 34,
      "outputs": [
        {
          "output_type": "error",
          "ename": "NameError",
          "evalue": "name 'true' is not defined",
          "traceback": [
            "\u001b[0;31m---------------------------------------------------------------------------\u001b[0m",
            "\u001b[0;31mNameError\u001b[0m                                 Traceback (most recent call last)",
            "\u001b[0;32m<ipython-input-34-8cfaa0633632>\u001b[0m in \u001b[0;36m<cell line: 6>\u001b[0;34m()\u001b[0m\n\u001b[1;32m      4\u001b[0m \u001b[0mtype\u001b[0m\u001b[0;34m(\u001b[0m\u001b[0;34m-\u001b[0m\u001b[0;36m32\u001b[0m\u001b[0;34m)\u001b[0m\u001b[0;34m\u001b[0m\u001b[0;34m\u001b[0m\u001b[0m\n\u001b[1;32m      5\u001b[0m \u001b[0mtype\u001b[0m\u001b[0;34m(\u001b[0m\u001b[0;32mTrue\u001b[0m\u001b[0;34m)\u001b[0m\u001b[0;34m\u001b[0m\u001b[0;34m\u001b[0m\u001b[0m\n\u001b[0;32m----> 6\u001b[0;31m \u001b[0mtype\u001b[0m\u001b[0;34m(\u001b[0m\u001b[0mtrue\u001b[0m\u001b[0;34m)\u001b[0m \u001b[0;31m# won't work since case sensitive\u001b[0m\u001b[0;34m\u001b[0m\u001b[0;34m\u001b[0m\u001b[0m\n\u001b[0m",
            "\u001b[0;31mNameError\u001b[0m: name 'true' is not defined"
          ]
        }
      ]
    },
    {
      "cell_type": "markdown",
      "source": [
        "#Custom Functions\n",
        "* a sequence of steps that we write; they can be tailored to our own needs, project requirements, business domain\n",
        "* syntax; def <name>(parameters/agruments) :\n",
        "* indentation to create blocks; if no proper indentation then syntax error; some amount of indentation\n",
        "* local variables, and can have as many arguments in the custom functions as we want\n"
      ],
      "metadata": {
        "id": "hRd9QewUz_TA"
      }
    },
    {
      "cell_type": "code",
      "source": [
        "#Declare a function that accepts a temperature in Celcius and returns it in Fahrenheit\n",
        "\n",
        "def convert_to_fahrenheit(celsius_temp):\n",
        "  calculation = celsius_temp * 1.8\n",
        "  return calculation + 32\n",
        "\n",
        "# if you want to give a default argument - a fallback value; what to do if we don't provide any argument\n",
        "\n",
        "def convert_to_fahrenheit(celsius_temp=0):\n",
        "  calculation = celsius_temp * 1.8\n",
        "  return calculation + 32"
      ],
      "metadata": {
        "id": "ITpwPss-zrv3"
      },
      "execution_count": 61,
      "outputs": []
    },
    {
      "cell_type": "code",
      "source": [
        "convert_to_fahrenheit(0)\n",
        "convert_to_fahrenheit(14)"
      ],
      "metadata": {
        "colab": {
          "base_uri": "https://localhost:8080/"
        },
        "id": "a1nP43C42vVL",
        "outputId": "5dcbe83a-ff90-4674-83be-05ac75959672"
      },
      "execution_count": 53,
      "outputs": [
        {
          "output_type": "execute_result",
          "data": {
            "text/plain": [
              "57.2"
            ]
          },
          "metadata": {},
          "execution_count": 53
        }
      ]
    },
    {
      "cell_type": "code",
      "source": [
        "convert_to_fahrenheit(celsius_temp =14) #the argument name needs to match else error; better because then you know what vaue you're assigning"
      ],
      "metadata": {
        "colab": {
          "base_uri": "https://localhost:8080/"
        },
        "id": "fHu4sQgD3J_l",
        "outputId": "23286da1-0985-402e-ec9b-46859d8d596d"
      },
      "execution_count": 59,
      "outputs": [
        {
          "output_type": "execute_result",
          "data": {
            "text/plain": [
              "57.2"
            ]
          },
          "metadata": {},
          "execution_count": 59
        }
      ]
    },
    {
      "cell_type": "code",
      "source": [
        "convert_to_fahrenheit() #since we have default value as 0"
      ],
      "metadata": {
        "colab": {
          "base_uri": "https://localhost:8080/"
        },
        "id": "zgpTfQ6N4_HZ",
        "outputId": "40178e08-eec2-40cd-de32-e664e118f217"
      },
      "execution_count": 63,
      "outputs": [
        {
          "output_type": "execute_result",
          "data": {
            "text/plain": [
              "32.0"
            ]
          },
          "metadata": {},
          "execution_count": 63
        }
      ]
    },
    {
      "cell_type": "code",
      "source": [
        "def addition(a,b,c=0):\n",
        "  result = a+b+c\n",
        "  return a,b,result"
      ],
      "metadata": {
        "id": "Ykxx9nDG-bMC"
      },
      "execution_count": 70,
      "outputs": []
    },
    {
      "cell_type": "code",
      "source": [
        "addition(1,2)"
      ],
      "metadata": {
        "colab": {
          "base_uri": "https://localhost:8080/"
        },
        "id": "w3ydFJAq-pWv",
        "outputId": "f5f1d48b-8b47-4255-de68-b95b53f13ca0"
      },
      "execution_count": 71,
      "outputs": [
        {
          "output_type": "execute_result",
          "data": {
            "text/plain": [
              "(1, 2, 3)"
            ]
          },
          "metadata": {},
          "execution_count": 71
        }
      ]
    },
    {
      "cell_type": "markdown",
      "source": [
        "#String Methods\n",
        "* An object is the technical term for a type. A string is an example of an object\n",
        "* A method is like a function that belongs to an object; right now what we know is they are directly invokable from a cell ut method is slightly different, these are available on objects. An action that we want an object/entity to perform\n",
        "* To invoke a method, provide a period after the object, then the method name and a pair of parantheses\n",
        "* Objects can be **mutable** (capable of change) or **ummutable**(incapable of change)\n",
        "* A string is **immutable**\n",
        "\n",
        "* upper method; basically an action on that string; converts to all CAPITALS\n",
        "* these are pieces of behaviour that other developers have written"
      ],
      "metadata": {
        "id": "PN9sODjj-1jb"
      }
    },
    {
      "cell_type": "code",
      "source": [
        "\"Python Developer\".upper() #correct\n"
      ],
      "metadata": {
        "colab": {
          "base_uri": "https://localhost:8080/",
          "height": 35
        },
        "id": "88om_Krw-3xZ",
        "outputId": "37419d46-df4e-4833-8396-026d204af407"
      },
      "execution_count": 72,
      "outputs": [
        {
          "output_type": "execute_result",
          "data": {
            "text/plain": [
              "'PYTHON DEVELOPER'"
            ],
            "application/vnd.google.colaboratory.intrinsic+json": {
              "type": "string"
            }
          },
          "metadata": {},
          "execution_count": 72
        }
      ]
    },
    {
      "cell_type": "code",
      "source": [
        "upper(\"Python Developer\") #incorrect"
      ],
      "metadata": {
        "colab": {
          "base_uri": "https://localhost:8080/",
          "height": 141
        },
        "id": "EAJ1faj7_3zu",
        "outputId": "95e09741-40ed-4d78-dfe7-5272214bd599"
      },
      "execution_count": 73,
      "outputs": [
        {
          "output_type": "error",
          "ename": "NameError",
          "evalue": "name 'upper' is not defined",
          "traceback": [
            "\u001b[0;31m---------------------------------------------------------------------------\u001b[0m",
            "\u001b[0;31mNameError\u001b[0m                                 Traceback (most recent call last)",
            "\u001b[0;32m<ipython-input-73-4b6d4f5e9347>\u001b[0m in \u001b[0;36m<cell line: 1>\u001b[0;34m()\u001b[0m\n\u001b[0;32m----> 1\u001b[0;31m \u001b[0mupper\u001b[0m\u001b[0;34m(\u001b[0m\u001b[0;34m\"Python Developer\"\u001b[0m\u001b[0;34m)\u001b[0m\u001b[0;34m\u001b[0m\u001b[0;34m\u001b[0m\u001b[0m\n\u001b[0m",
            "\u001b[0;31mNameError\u001b[0m: name 'upper' is not defined"
          ]
        }
      ]
    },
    {
      "cell_type": "code",
      "source": [
        "profession = \"Python Developer\"\n",
        "profession.upper()\n"
      ],
      "metadata": {
        "colab": {
          "base_uri": "https://localhost:8080/",
          "height": 35
        },
        "id": "rpMo7JoEAAEd",
        "outputId": "57c1f3e8-db91-4456-aeeb-82f3f8084641"
      },
      "execution_count": 74,
      "outputs": [
        {
          "output_type": "execute_result",
          "data": {
            "text/plain": [
              "'PYTHON DEVELOPER'"
            ],
            "application/vnd.google.colaboratory.intrinsic+json": {
              "type": "string"
            }
          },
          "metadata": {},
          "execution_count": 74
        }
      ]
    },
    {
      "cell_type": "code",
      "source": [
        "profession #the original string did not change\n",
        "profession.lower()"
      ],
      "metadata": {
        "colab": {
          "base_uri": "https://localhost:8080/",
          "height": 35
        },
        "id": "qLZftXD1AxbT",
        "outputId": "962c0af4-9fd2-4541-f79a-2d5a0e422f77"
      },
      "execution_count": 77,
      "outputs": [
        {
          "output_type": "execute_result",
          "data": {
            "text/plain": [
              "'python developer'"
            ],
            "application/vnd.google.colaboratory.intrinsic+json": {
              "type": "string"
            }
          },
          "metadata": {},
          "execution_count": 77
        }
      ]
    },
    {
      "cell_type": "code",
      "source": [
        "profession.swapcase() #reverses the casing"
      ],
      "metadata": {
        "colab": {
          "base_uri": "https://localhost:8080/",
          "height": 35
        },
        "id": "x1NG1dKeBGEF",
        "outputId": "1a92a950-cf21-4de6-f3bb-8f9d6e7cb5f4"
      },
      "execution_count": 78,
      "outputs": [
        {
          "output_type": "execute_result",
          "data": {
            "text/plain": [
              "'pYTHON dEVELOPER'"
            ],
            "application/vnd.google.colaboratory.intrinsic+json": {
              "type": "string"
            }
          },
          "metadata": {},
          "execution_count": 78
        }
      ]
    },
    {
      "cell_type": "code",
      "source": [
        "\"once upon a time\".title() #capitalise the first character of all words\n",
        "\"once upon a time\".capitalize() #capitalise the first character of the first word\n",
        "\n"
      ],
      "metadata": {
        "colab": {
          "base_uri": "https://localhost:8080/",
          "height": 35
        },
        "id": "ZV6fQ6nWBKhr",
        "outputId": "8e29884d-45b0-48dc-d60a-152850b4be28"
      },
      "execution_count": 82,
      "outputs": [
        {
          "output_type": "execute_result",
          "data": {
            "text/plain": [
              "'Once upon a time'"
            ],
            "application/vnd.google.colaboratory.intrinsic+json": {
              "type": "string"
            }
          },
          "metadata": {},
          "execution_count": 82
        }
      ]
    },
    {
      "cell_type": "code",
      "source": [
        "profession = \"           Python Developer           \""
      ],
      "metadata": {
        "id": "66g85pEIBvwM"
      },
      "execution_count": 84,
      "outputs": []
    },
    {
      "cell_type": "code",
      "source": [
        "profession"
      ],
      "metadata": {
        "colab": {
          "base_uri": "https://localhost:8080/",
          "height": 35
        },
        "id": "E4u4LIOYB1cI",
        "outputId": "ac40cc8b-c1ac-4432-9c43-80847de36267"
      },
      "execution_count": 85,
      "outputs": [
        {
          "output_type": "execute_result",
          "data": {
            "text/plain": [
              "'           Python Developer           '"
            ],
            "application/vnd.google.colaboratory.intrinsic+json": {
              "type": "string"
            }
          },
          "metadata": {},
          "execution_count": 85
        }
      ]
    },
    {
      "cell_type": "code",
      "source": [
        "profession.lstrip() #leftstrip; remove whitespace from beginning\n",
        "profession.rstrip() #rightstrip; remove whitespace from end\n",
        "profession.strip() #remove from both\n"
      ],
      "metadata": {
        "colab": {
          "base_uri": "https://localhost:8080/",
          "height": 35
        },
        "id": "DxTqWB4EB36_",
        "outputId": "d482345d-5791-49d0-9d1e-1968170c54ed"
      },
      "execution_count": 88,
      "outputs": [
        {
          "output_type": "execute_result",
          "data": {
            "text/plain": [
              "'Python Developer'"
            ],
            "application/vnd.google.colaboratory.intrinsic+json": {
              "type": "string"
            }
          },
          "metadata": {},
          "execution_count": 88
        }
      ]
    },
    {
      "cell_type": "code",
      "source": [
        "#we are getting brand new string; there is not change happening to the very initial string; if you want two things to happen use the following method: Method chaining\n",
        "profession.strip().lower()"
      ],
      "metadata": {
        "colab": {
          "base_uri": "https://localhost:8080/",
          "height": 35
        },
        "id": "qPu3NXqNCFQC",
        "outputId": "91a9ddc6-7c16-452a-9af9-4729d7b0bf24"
      },
      "execution_count": 90,
      "outputs": [
        {
          "output_type": "execute_result",
          "data": {
            "text/plain": [
              "'python developer'"
            ],
            "application/vnd.google.colaboratory.intrinsic+json": {
              "type": "string"
            }
          },
          "metadata": {},
          "execution_count": 90
        }
      ]
    },
    {
      "cell_type": "code",
      "source": [
        "profession.replace(\"e\",\"*\") #replaces all occurances of the character from the string, takes two argumnents, which and to what"
      ],
      "metadata": {
        "colab": {
          "base_uri": "https://localhost:8080/",
          "height": 35
        },
        "id": "H72fiDHGCl3W",
        "outputId": "ec41f05a-68fd-4050-de53-e3acc76746b4"
      },
      "execution_count": 95,
      "outputs": [
        {
          "output_type": "execute_result",
          "data": {
            "text/plain": [
              "'           Python D*v*lop*r           '"
            ],
            "application/vnd.google.colaboratory.intrinsic+json": {
              "type": "string"
            }
          },
          "metadata": {},
          "execution_count": 95
        }
      ]
    },
    {
      "cell_type": "code",
      "source": [
        "profession.strip().replace(\"e\",\"*\")"
      ],
      "metadata": {
        "colab": {
          "base_uri": "https://localhost:8080/",
          "height": 35
        },
        "id": "VAog1jqGDAf8",
        "outputId": "3e64554f-56db-4818-9965-208b9f7203f2"
      },
      "execution_count": 96,
      "outputs": [
        {
          "output_type": "execute_result",
          "data": {
            "text/plain": [
              "'Python D*v*lop*r'"
            ],
            "application/vnd.google.colaboratory.intrinsic+json": {
              "type": "string"
            }
          },
          "metadata": {},
          "execution_count": 96
        }
      ]
    },
    {
      "cell_type": "code",
      "source": [
        "profession.strip().startswith(\"Pyt\") #remember case sensitivity\n",
        "profession.strip().endswith(\"oper \")"
      ],
      "metadata": {
        "colab": {
          "base_uri": "https://localhost:8080/"
        },
        "id": "nmcaluN_DFsw",
        "outputId": "189b7362-d5b6-42af-99dd-c7c7d57b5f50"
      },
      "execution_count": 101,
      "outputs": [
        {
          "output_type": "execute_result",
          "data": {
            "text/plain": [
              "False"
            ]
          },
          "metadata": {},
          "execution_count": 101
        }
      ]
    },
    {
      "cell_type": "code",
      "source": [
        "#searching for a substring within a string; there is an \"in\" keyword\n",
        "\"Dev\" in profession.strip()"
      ],
      "metadata": {
        "colab": {
          "base_uri": "https://localhost:8080/"
        },
        "id": "h7RiNp7kDfMF",
        "outputId": "1b285879-f6c7-4fae-e923-ccbbf7fc8f63"
      },
      "execution_count": 103,
      "outputs": [
        {
          "output_type": "execute_result",
          "data": {
            "text/plain": [
              "True"
            ]
          },
          "metadata": {},
          "execution_count": 103
        }
      ]
    },
    {
      "cell_type": "code",
      "source": [
        "\"dev\" in profession.strip()"
      ],
      "metadata": {
        "colab": {
          "base_uri": "https://localhost:8080/"
        },
        "id": "XNL6MGqCDt5Y",
        "outputId": "0e265099-31a2-49ed-83be-931ac34cdccf"
      },
      "execution_count": 104,
      "outputs": [
        {
          "output_type": "execute_result",
          "data": {
            "text/plain": [
              "False"
            ]
          },
          "metadata": {},
          "execution_count": 104
        }
      ]
    },
    {
      "cell_type": "code",
      "source": [
        "#not in\n",
        "\"Dev\" not in profession.strip()"
      ],
      "metadata": {
        "colab": {
          "base_uri": "https://localhost:8080/"
        },
        "id": "UvBKKQ_hDxBj",
        "outputId": "4886442e-e0d2-428c-ecdf-ac7292060fcc"
      },
      "execution_count": 105,
      "outputs": [
        {
          "output_type": "execute_result",
          "data": {
            "text/plain": [
              "False"
            ]
          },
          "metadata": {},
          "execution_count": 105
        }
      ]
    },
    {
      "cell_type": "markdown",
      "source": [
        "#Lists\n",
        "* A list is a container to store multiple values in order, in sequence, each value will be assigned a position\n",
        "* **mutable**(can change) data structure that holds an ordered collection of values\n",
        "* a list of string, a list of integer, a list of list, you can also have a mix list like string integer etc, There is no limitation\n",
        "* One item within a list is called ELEMENT\n",
        "* The length of the list is the number of elements\n",
        "* A list includes various methods for adding and removing elements\n",
        "* use [ ] to start and beginning of the list, all elements separated by commas\n",
        "* lists and array are the same, synonyms"
      ],
      "metadata": {
        "id": "G5yKqYSMErd7"
      }
    },
    {
      "cell_type": "code",
      "source": [
        "[4, 8] #order matters as this is not equalto [8,4]\n",
        "[4, 8, 15, 16, 23, 42] #length of this list is 6"
      ],
      "metadata": {
        "colab": {
          "base_uri": "https://localhost:8080/"
        },
        "id": "hjIP3AmpD6MQ",
        "outputId": "3099b01b-5c50-4293-ac19-071d45289c02"
      },
      "execution_count": 113,
      "outputs": [
        {
          "output_type": "execute_result",
          "data": {
            "text/plain": [
              "[4, 8, 15, 16, 23, 42]"
            ]
          },
          "metadata": {},
          "execution_count": 113
        }
      ]
    },
    {
      "cell_type": "code",
      "source": [
        "[True, False, True, True, False] #list consisting of 5 booleans; the length of this list is 5"
      ],
      "metadata": {
        "colab": {
          "base_uri": "https://localhost:8080/"
        },
        "id": "czz1czS_F6gW",
        "outputId": "5f4e48e5-4a8b-48c0-ecfa-be27dd6da538"
      },
      "execution_count": 112,
      "outputs": [
        {
          "output_type": "execute_result",
          "data": {
            "text/plain": [
              "[True, False, True, True, False]"
            ]
          },
          "metadata": {},
          "execution_count": 112
        }
      ]
    },
    {
      "cell_type": "code",
      "source": [
        "party_attendees = [\"Michael\", \"Freddy\", \"Jason\"]"
      ],
      "metadata": {
        "id": "MFhxccYGGIf1"
      },
      "execution_count": 114,
      "outputs": []
    },
    {
      "cell_type": "code",
      "source": [
        "party_attendees"
      ],
      "metadata": {
        "colab": {
          "base_uri": "https://localhost:8080/"
        },
        "id": "3bt7VlqpGRj_",
        "outputId": "33955875-289c-4c3c-d030-08a9a7e43c26"
      },
      "execution_count": 115,
      "outputs": [
        {
          "output_type": "execute_result",
          "data": {
            "text/plain": [
              "['Michael', 'Freddy', 'Jason']"
            ]
          },
          "metadata": {},
          "execution_count": 115
        }
      ]
    },
    {
      "cell_type": "code",
      "source": [
        "len(\"Python\") #6\n",
        "len(party_attendees) #3\n",
        "type(party_attendees) #list"
      ],
      "metadata": {
        "colab": {
          "base_uri": "https://localhost:8080/"
        },
        "id": "DS74BAcUGTC2",
        "outputId": "522de3d3-41e4-489a-c797-14bdfd663785"
      },
      "execution_count": 118,
      "outputs": [
        {
          "output_type": "execute_result",
          "data": {
            "text/plain": [
              "list"
            ]
          },
          "metadata": {},
          "execution_count": 118
        }
      ]
    },
    {
      "cell_type": "code",
      "source": [
        "#Sample methods on the list\n",
        "#some methods have power to change the list as lists are mutable\n",
        "presidents = [\"Washington\", \"Jefferson\"]"
      ],
      "metadata": {
        "id": "YpfvBGJ_GeJW"
      },
      "execution_count": 121,
      "outputs": []
    },
    {
      "cell_type": "code",
      "source": [
        "presidents.append(\"Madison\")\n",
        "presidents"
      ],
      "metadata": {
        "colab": {
          "base_uri": "https://localhost:8080/"
        },
        "id": "-umTwAwuGwHJ",
        "outputId": "5af87e38-e642-47c4-f353-68c9ede3df89"
      },
      "execution_count": 124,
      "outputs": [
        {
          "output_type": "execute_result",
          "data": {
            "text/plain": [
              "['Washington', 'Jefferson', 'Madison', 'Madison']"
            ]
          },
          "metadata": {},
          "execution_count": 124
        }
      ]
    },
    {
      "cell_type": "code",
      "source": [
        "popcorn_flavors = [\"Salted\", \"Unsalted\", \"Caramel\"]\n",
        "popcorn_flavors"
      ],
      "metadata": {
        "colab": {
          "base_uri": "https://localhost:8080/"
        },
        "id": "iCELSHQ7HSoy",
        "outputId": "7d0f6a93-859a-4198-fd1f-7fc8212ed504"
      },
      "execution_count": 129,
      "outputs": [
        {
          "output_type": "execute_result",
          "data": {
            "text/plain": [
              "['Salted', 'Unsalted', 'Caramel']"
            ]
          },
          "metadata": {},
          "execution_count": 129
        }
      ]
    },
    {
      "cell_type": "code",
      "source": [
        "popcorn_flavors.pop() #remove the last element and output is that element and also changes the original list\n"
      ],
      "metadata": {
        "colab": {
          "base_uri": "https://localhost:8080/",
          "height": 35
        },
        "id": "v2tGu0MsHb9Y",
        "outputId": "1ee895cc-7c68-4c08-a968-3c417e236e86"
      },
      "execution_count": 130,
      "outputs": [
        {
          "output_type": "execute_result",
          "data": {
            "text/plain": [
              "'Caramel'"
            ],
            "application/vnd.google.colaboratory.intrinsic+json": {
              "type": "string"
            }
          },
          "metadata": {},
          "execution_count": 130
        }
      ]
    },
    {
      "cell_type": "code",
      "source": [
        "popcorn_flavors"
      ],
      "metadata": {
        "colab": {
          "base_uri": "https://localhost:8080/"
        },
        "id": "AKPYon22Hs48",
        "outputId": "0aaf9bd9-0730-4be0-e923-19c51616557c"
      },
      "execution_count": 131,
      "outputs": [
        {
          "output_type": "execute_result",
          "data": {
            "text/plain": [
              "['Salted', 'Unsalted']"
            ]
          },
          "metadata": {},
          "execution_count": 131
        }
      ]
    },
    {
      "cell_type": "code",
      "source": [
        "planets = [\"Mercury\", \"Venus\", \"Earth\", \"Mars\"]\n",
        "planets"
      ],
      "metadata": {
        "colab": {
          "base_uri": "https://localhost:8080/"
        },
        "id": "Xxxgl0jzHvCe",
        "outputId": "25baea3b-32f3-4cfb-d25b-d5ff2e4eebbd"
      },
      "execution_count": 133,
      "outputs": [
        {
          "output_type": "execute_result",
          "data": {
            "text/plain": [
              "['Mercury', 'Venus', 'Earth', 'Mars']"
            ]
          },
          "metadata": {},
          "execution_count": 133
        }
      ]
    },
    {
      "cell_type": "code",
      "source": [
        "\"Jupiter\" in planets\n",
        "\"Venus\" in planets\n",
        "\"venus\" in planets"
      ],
      "metadata": {
        "colab": {
          "base_uri": "https://localhost:8080/"
        },
        "id": "7z1wuTmpH_1E",
        "outputId": "2639a947-20b6-4529-d3f0-1442549bd181"
      },
      "execution_count": 136,
      "outputs": [
        {
          "output_type": "execute_result",
          "data": {
            "text/plain": [
              "False"
            ]
          },
          "metadata": {},
          "execution_count": 136
        }
      ]
    },
    {
      "cell_type": "code",
      "source": [
        "\"Pluto\" not in planets\n",
        "\"Venus\" not in planets"
      ],
      "metadata": {
        "colab": {
          "base_uri": "https://localhost:8080/"
        },
        "id": "h2K70bHdIT9y",
        "outputId": "a7c1f5de-f56f-4bc2-edd4-0cf3c62e59c4"
      },
      "execution_count": 138,
      "outputs": [
        {
          "output_type": "execute_result",
          "data": {
            "text/plain": [
              "False"
            ]
          },
          "metadata": {},
          "execution_count": 138
        }
      ]
    },
    {
      "cell_type": "markdown",
      "source": [
        "#Index Positions and Slicing\n",
        "* there is something common bw string and list. Basically order. Unique number which is index\n",
        "* Python assigns every string character an index position(an order in a line)\n",
        "* Python starts counting at 0 (caveat)\n",
        "* Use negative values to extract a character/elemetn relative to the end of the object"
      ],
      "metadata": {
        "id": "9um3RWz2I82d"
      }
    },
    {
      "cell_type": "code",
      "source": [
        "hero = \"SpiderMan\"\n",
        "hero"
      ],
      "metadata": {
        "colab": {
          "base_uri": "https://localhost:8080/",
          "height": 35
        },
        "id": "oN7xsMkCI_3u",
        "outputId": "78866ab0-53c7-4337-f761-1c75f715dabb"
      },
      "execution_count": 139,
      "outputs": [
        {
          "output_type": "execute_result",
          "data": {
            "text/plain": [
              "'SpiderMan'"
            ],
            "application/vnd.google.colaboratory.intrinsic+json": {
              "type": "string"
            }
          },
          "metadata": {},
          "execution_count": 139
        }
      ]
    },
    {
      "cell_type": "code",
      "source": [
        "len(hero)"
      ],
      "metadata": {
        "colab": {
          "base_uri": "https://localhost:8080/"
        },
        "id": "ZY7ig6DrJkzm",
        "outputId": "c2aee23e-9dce-4078-dfa8-cc22b96bb8fa"
      },
      "execution_count": 140,
      "outputs": [
        {
          "output_type": "execute_result",
          "data": {
            "text/plain": [
              "9"
            ]
          },
          "metadata": {},
          "execution_count": 140
        }
      ]
    },
    {
      "cell_type": "code",
      "source": [
        "# 0 1 2 3 4 5 6 7 8\n",
        "# -9\n",
        "# S p i d e r M a n\n",
        "#final position is one less than the length of the string\n",
        "hero[3]\n",
        "hero[100]"
      ],
      "metadata": {
        "colab": {
          "base_uri": "https://localhost:8080/",
          "height": 176
        },
        "id": "YulaRGlpJmC4",
        "outputId": "e4c2af64-7b50-41e9-a283-7f15ac2c1f6e"
      },
      "execution_count": 143,
      "outputs": [
        {
          "output_type": "error",
          "ename": "IndexError",
          "evalue": "string index out of range",
          "traceback": [
            "\u001b[0;31m---------------------------------------------------------------------------\u001b[0m",
            "\u001b[0;31mIndexError\u001b[0m                                Traceback (most recent call last)",
            "\u001b[0;32m<ipython-input-143-ca51a70f053f>\u001b[0m in \u001b[0;36m<cell line: 5>\u001b[0;34m()\u001b[0m\n\u001b[1;32m      3\u001b[0m \u001b[0;31m#final position is one less than the length of the string\u001b[0m\u001b[0;34m\u001b[0m\u001b[0;34m\u001b[0m\u001b[0m\n\u001b[1;32m      4\u001b[0m \u001b[0mhero\u001b[0m\u001b[0;34m[\u001b[0m\u001b[0;36m3\u001b[0m\u001b[0;34m]\u001b[0m\u001b[0;34m\u001b[0m\u001b[0;34m\u001b[0m\u001b[0m\n\u001b[0;32m----> 5\u001b[0;31m \u001b[0mhero\u001b[0m\u001b[0;34m[\u001b[0m\u001b[0;36m100\u001b[0m\u001b[0;34m]\u001b[0m\u001b[0;34m\u001b[0m\u001b[0;34m\u001b[0m\u001b[0m\n\u001b[0m",
            "\u001b[0;31mIndexError\u001b[0m: string index out of range"
          ]
        }
      ]
    },
    {
      "cell_type": "code",
      "source": [
        "hero[-1]\n",
        "hero[-9]"
      ],
      "metadata": {
        "colab": {
          "base_uri": "https://localhost:8080/",
          "height": 35
        },
        "id": "NZHG1VUCJ2FZ",
        "outputId": "b9ea79ce-84e0-44f9-e747-0492b4af3f9d"
      },
      "execution_count": 147,
      "outputs": [
        {
          "output_type": "execute_result",
          "data": {
            "text/plain": [
              "'S'"
            ],
            "application/vnd.google.colaboratory.intrinsic+json": {
              "type": "string"
            }
          },
          "metadata": {},
          "execution_count": 147
        }
      ]
    },
    {
      "cell_type": "code",
      "source": [
        "hero[1:3] #starts from index 1 till 3; the first number before : is inclusive but after : is not include 3-1 = 2 values"
      ],
      "metadata": {
        "colab": {
          "base_uri": "https://localhost:8080/",
          "height": 35
        },
        "id": "NwSqlcJ3KWQB",
        "outputId": "7520df9f-a4a2-49ef-c462-ef4fad81e59d"
      },
      "execution_count": 150,
      "outputs": [
        {
          "output_type": "execute_result",
          "data": {
            "text/plain": [
              "'pi'"
            ],
            "application/vnd.google.colaboratory.intrinsic+json": {
              "type": "string"
            }
          },
          "metadata": {},
          "execution_count": 150
        }
      ]
    },
    {
      "cell_type": "code",
      "source": [
        "hero[2:6] #6-2 = 4 character substring; indices 2,3,4,5"
      ],
      "metadata": {
        "colab": {
          "base_uri": "https://localhost:8080/",
          "height": 35
        },
        "id": "1Hp7SVXdKxLw",
        "outputId": "e5aa69e3-c9b0-4470-a23c-afc2e441723a"
      },
      "execution_count": 151,
      "outputs": [
        {
          "output_type": "execute_result",
          "data": {
            "text/plain": [
              "'ider'"
            ],
            "application/vnd.google.colaboratory.intrinsic+json": {
              "type": "string"
            }
          },
          "metadata": {},
          "execution_count": 151
        }
      ]
    },
    {
      "cell_type": "code",
      "source": [
        "hero[0:-1] #everything but the last character\n",
        "#shortcut\n",
        "hero[:-1] #same as above; if you have 0 before colon you can ommit it completely\n",
        "hero[3:100] #not an error in this case because it starts from 3 and will give till\n",
        "hero[3:]\n",
        "hero[100:-2] #atleast not an error but not any use\n",
        "hero[3:-2]"
      ],
      "metadata": {
        "colab": {
          "base_uri": "https://localhost:8080/",
          "height": 35
        },
        "id": "Cg0t0SPDLKab",
        "outputId": "d8477cf6-c0b7-4330-8d84-8ebd1b764a86"
      },
      "execution_count": 159,
      "outputs": [
        {
          "output_type": "execute_result",
          "data": {
            "text/plain": [
              "'derM'"
            ],
            "application/vnd.google.colaboratory.intrinsic+json": {
              "type": "string"
            }
          },
          "metadata": {},
          "execution_count": 159
        }
      ]
    },
    {
      "cell_type": "code",
      "source": [
        "#now try with lists\n",
        "superheroes = [\"Batman\", \"Wolverine\", \"Superman\", \"Ironman\"]"
      ],
      "metadata": {
        "id": "W4bVWXHXL3yF"
      },
      "execution_count": 160,
      "outputs": []
    },
    {
      "cell_type": "code",
      "source": [
        "superheroes[1]"
      ],
      "metadata": {
        "colab": {
          "base_uri": "https://localhost:8080/",
          "height": 35
        },
        "id": "oMsVvbQgPBNL",
        "outputId": "0931a540-4f13-47b8-d651-f557df9449e1"
      },
      "execution_count": 161,
      "outputs": [
        {
          "output_type": "execute_result",
          "data": {
            "text/plain": [
              "'Wolverine'"
            ],
            "application/vnd.google.colaboratory.intrinsic+json": {
              "type": "string"
            }
          },
          "metadata": {},
          "execution_count": 161
        }
      ]
    },
    {
      "cell_type": "code",
      "source": [
        "superheroes[0:2] #0 and 1 indices"
      ],
      "metadata": {
        "colab": {
          "base_uri": "https://localhost:8080/"
        },
        "id": "X3wWYGctPEVC",
        "outputId": "3b2f81ba-db1c-47cd-9e60-483fff8d212b"
      },
      "execution_count": 164,
      "outputs": [
        {
          "output_type": "execute_result",
          "data": {
            "text/plain": [
              "['Batman', 'Wolverine']"
            ]
          },
          "metadata": {},
          "execution_count": 164
        }
      ]
    },
    {
      "cell_type": "code",
      "source": [
        "superheroes[5] #out of range so error"
      ],
      "metadata": {
        "colab": {
          "base_uri": "https://localhost:8080/",
          "height": 141
        },
        "id": "Xp70yzyVPqw1",
        "outputId": "4f33d559-23d1-43e6-8666-326f4c65950f"
      },
      "execution_count": 166,
      "outputs": [
        {
          "output_type": "error",
          "ename": "IndexError",
          "evalue": "list index out of range",
          "traceback": [
            "\u001b[0;31m---------------------------------------------------------------------------\u001b[0m",
            "\u001b[0;31mIndexError\u001b[0m                                Traceback (most recent call last)",
            "\u001b[0;32m<ipython-input-166-d0aa2fec73ce>\u001b[0m in \u001b[0;36m<cell line: 1>\u001b[0;34m()\u001b[0m\n\u001b[0;32m----> 1\u001b[0;31m \u001b[0msuperheroes\u001b[0m\u001b[0;34m[\u001b[0m\u001b[0;36m5\u001b[0m\u001b[0;34m]\u001b[0m\u001b[0;34m\u001b[0m\u001b[0;34m\u001b[0m\u001b[0m\n\u001b[0m",
            "\u001b[0;31mIndexError\u001b[0m: list index out of range"
          ]
        }
      ]
    },
    {
      "cell_type": "code",
      "source": [
        "superheroes[:-1]"
      ],
      "metadata": {
        "colab": {
          "base_uri": "https://localhost:8080/"
        },
        "id": "3k7sQ2a0PskW",
        "outputId": "9c6ceef8-68cc-4688-f822-15c76f4a8534"
      },
      "execution_count": 167,
      "outputs": [
        {
          "output_type": "execute_result",
          "data": {
            "text/plain": [
              "['Batman', 'Wolverine', 'Superman']"
            ]
          },
          "metadata": {},
          "execution_count": 167
        }
      ]
    },
    {
      "cell_type": "code",
      "source": [
        "superheroes[-1:]"
      ],
      "metadata": {
        "colab": {
          "base_uri": "https://localhost:8080/"
        },
        "id": "hWtBna_JPviI",
        "outputId": "6029c56e-fe11-463c-e16b-39e73391915b"
      },
      "execution_count": 170,
      "outputs": [
        {
          "output_type": "execute_result",
          "data": {
            "text/plain": [
              "['Ironman']"
            ]
          },
          "metadata": {},
          "execution_count": 170
        }
      ]
    },
    {
      "cell_type": "code",
      "source": [],
      "metadata": {
        "id": "Qok1K1V4P6D3"
      },
      "execution_count": null,
      "outputs": []
    },
    {
      "cell_type": "markdown",
      "source": [
        "#Dictionaries\n",
        "* A dictionary exist to solve the problem of association. In some value also called MAP\n",
        "* bridge between different objects\n",
        "* Why? Like list is for order, we use dictionary when we do not care about order but do care about association. Like a menu; food item mapped to price, we do not really care about the order of items on the menu; basically a link or connection. For example an actual dictionary\n",
        "* A dictionary is a mutable, unordered collection of **key-value** pairs\n",
        "* A key is the unique identifier for a value; can not have same key twice; it has to be a unique identifier\n",
        "* A value corresponds to the key. The values can contain duplicates\n",
        "* Can use numbers, string etc. No limitation\n",
        "* Use a dictionary for **association** (i.e., to connect/map two values together). Use a list for order"
      ],
      "metadata": {
        "id": "E-wvrP3DQO1m"
      }
    },
    {
      "cell_type": "code",
      "source": [
        "#replicating a menu in real world\n",
        "menu = { \"Filet Mignon\": 29.99,\n",
        "        \"Big Mac\": 3.99,\n",
        "         \"Pizza\": 3.99,\n",
        "         \"Salmon\": 29.99 }\n",
        "menu"
      ],
      "metadata": {
        "colab": {
          "base_uri": "https://localhost:8080/"
        },
        "id": "l8fH8WnqQR5r",
        "outputId": "85d9b6b3-62b7-4739-e899-20a40bd3754c"
      },
      "execution_count": 175,
      "outputs": [
        {
          "output_type": "execute_result",
          "data": {
            "text/plain": [
              "{'Filet Mignon': 29.99, 'Big Mac': 3.99, 'Pizza': 3.99, 'Salmon': 29.99}"
            ]
          },
          "metadata": {},
          "execution_count": 175
        }
      ]
    },
    {
      "cell_type": "code",
      "source": [
        "len(menu) #total number of key-value pairs"
      ],
      "metadata": {
        "colab": {
          "base_uri": "https://localhost:8080/"
        },
        "id": "loz1-8PISPSj",
        "outputId": "747b7432-a74e-48b5-d2fa-47609a7ecbeb"
      },
      "execution_count": 177,
      "outputs": [
        {
          "output_type": "execute_result",
          "data": {
            "text/plain": [
              "4"
            ]
          },
          "metadata": {},
          "execution_count": 177
        }
      ]
    },
    {
      "cell_type": "code",
      "source": [
        "#menu[\"Pizza\", \"Big Mac\"] can't do two values together so lets try one\n",
        "menu[\"Pizza\"] #works"
      ],
      "metadata": {
        "colab": {
          "base_uri": "https://localhost:8080/"
        },
        "id": "XetArwqqSULj",
        "outputId": "a537f7eb-15de-4e23-a74f-e8f031f5b27a"
      },
      "execution_count": 183,
      "outputs": [
        {
          "output_type": "execute_result",
          "data": {
            "text/plain": [
              "3.99"
            ]
          },
          "metadata": {},
          "execution_count": 183
        }
      ]
    },
    {
      "cell_type": "code",
      "source": [
        "menu[\"Salmon\"]"
      ],
      "metadata": {
        "colab": {
          "base_uri": "https://localhost:8080/"
        },
        "id": "lxM0q537Si9e",
        "outputId": "83135b24-cf96-4a40-df24-1269577851f6"
      },
      "execution_count": 184,
      "outputs": [
        {
          "output_type": "execute_result",
          "data": {
            "text/plain": [
              "29.99"
            ]
          },
          "metadata": {},
          "execution_count": 184
        }
      ]
    },
    {
      "cell_type": "code",
      "source": [
        "menu[\"Tuna\"] #key error; also applies to case sensitivity"
      ],
      "metadata": {
        "colab": {
          "base_uri": "https://localhost:8080/",
          "height": 141
        },
        "id": "uF7pFR0HSmKu",
        "outputId": "a382bcfb-819f-48bd-a610-a1b58ce9ce59"
      },
      "execution_count": 186,
      "outputs": [
        {
          "output_type": "error",
          "ename": "KeyError",
          "evalue": "'Tuna'",
          "traceback": [
            "\u001b[0;31m---------------------------------------------------------------------------\u001b[0m",
            "\u001b[0;31mKeyError\u001b[0m                                  Traceback (most recent call last)",
            "\u001b[0;32m<ipython-input-186-4c015783a357>\u001b[0m in \u001b[0;36m<cell line: 1>\u001b[0;34m()\u001b[0m\n\u001b[0;32m----> 1\u001b[0;31m \u001b[0mmenu\u001b[0m\u001b[0;34m[\u001b[0m\u001b[0;34m\"Tuna\"\u001b[0m\u001b[0;34m]\u001b[0m \u001b[0;31m#key error\u001b[0m\u001b[0;34m\u001b[0m\u001b[0;34m\u001b[0m\u001b[0m\n\u001b[0m",
            "\u001b[0;31mKeyError\u001b[0m: 'Tuna'"
          ]
        }
      ]
    },
    {
      "cell_type": "code",
      "source": [
        "menu[\"Burrito\"] = 23.44 #this is adding a key-value pair to dictionary\n",
        "menu"
      ],
      "metadata": {
        "colab": {
          "base_uri": "https://localhost:8080/"
        },
        "id": "A_cli_RsSpct",
        "outputId": "5100c025-99b0-488b-eaa8-323907b7bdb9"
      },
      "execution_count": 191,
      "outputs": [
        {
          "output_type": "execute_result",
          "data": {
            "text/plain": [
              "{'Filet Mignon': 29.99,\n",
              " 'Big Mac': 3.99,\n",
              " 'Pizza': 3.99,\n",
              " 'Salmon': 29.99,\n",
              " 'Burrito': 23.44}"
            ]
          },
          "metadata": {},
          "execution_count": 191
        }
      ]
    },
    {
      "cell_type": "code",
      "source": [
        "menu[\"Big Mac\"] = 10.99 #overwrite the existing value"
      ],
      "metadata": {
        "id": "cm0nMNt_S9kk"
      },
      "execution_count": 192,
      "outputs": []
    },
    {
      "cell_type": "code",
      "source": [
        "menu"
      ],
      "metadata": {
        "colab": {
          "base_uri": "https://localhost:8080/"
        },
        "id": "4GaasNnPTOQm",
        "outputId": "f3a228fa-6055-4674-958a-360d1b32f11c"
      },
      "execution_count": 193,
      "outputs": [
        {
          "output_type": "execute_result",
          "data": {
            "text/plain": [
              "{'Filet Mignon': 29.99,\n",
              " 'Big Mac': 10.99,\n",
              " 'Pizza': 3.99,\n",
              " 'Salmon': 29.99,\n",
              " 'Burrito': 23.44}"
            ]
          },
          "metadata": {},
          "execution_count": 193
        }
      ]
    },
    {
      "cell_type": "code",
      "source": [
        "#pop method\n",
        "menu.pop(\"Filet Mignon\")"
      ],
      "metadata": {
        "colab": {
          "base_uri": "https://localhost:8080/"
        },
        "id": "_vuIKbVFTPGE",
        "outputId": "bec59234-5f55-4d8f-fcb8-defadc3c8c94"
      },
      "execution_count": 195,
      "outputs": [
        {
          "output_type": "execute_result",
          "data": {
            "text/plain": [
              "29.99"
            ]
          },
          "metadata": {},
          "execution_count": 195
        }
      ]
    },
    {
      "cell_type": "code",
      "source": [
        "menu"
      ],
      "metadata": {
        "colab": {
          "base_uri": "https://localhost:8080/"
        },
        "id": "nceHIU0xTZbK",
        "outputId": "1fd2f54c-e06a-4a07-fdba-2c4215d4257f"
      },
      "execution_count": 196,
      "outputs": [
        {
          "output_type": "execute_result",
          "data": {
            "text/plain": [
              "{'Big Mac': 10.99, 'Pizza': 3.99, 'Salmon': 29.99, 'Burrito': 23.44}"
            ]
          },
          "metadata": {},
          "execution_count": 196
        }
      ]
    },
    {
      "cell_type": "code",
      "source": [
        "#they go hand in hand; I can just remove key or value; they go together; association b/w two things"
      ],
      "metadata": {
        "id": "F6KGDqulTdsC"
      },
      "execution_count": 197,
      "outputs": []
    },
    {
      "cell_type": "code",
      "source": [
        "\"Big Mac\" in menu #it will check amongst the keys"
      ],
      "metadata": {
        "colab": {
          "base_uri": "https://localhost:8080/"
        },
        "id": "sCMbofqPTkKX",
        "outputId": "4e468ecd-efef-4d6d-b0a9-1757209d93da"
      },
      "execution_count": 200,
      "outputs": [
        {
          "output_type": "execute_result",
          "data": {
            "text/plain": [
              "True"
            ]
          },
          "metadata": {},
          "execution_count": 200
        }
      ]
    },
    {
      "cell_type": "code",
      "source": [
        "10.99 in menu #although exists as value but in keyword look amongst the keys. Because keys is entry point in the object"
      ],
      "metadata": {
        "colab": {
          "base_uri": "https://localhost:8080/"
        },
        "id": "Pkxv67f_TsEg",
        "outputId": "08014258-1e14-4b11-c1da-73a57e4dbd11"
      },
      "execution_count": 202,
      "outputs": [
        {
          "output_type": "execute_result",
          "data": {
            "text/plain": [
              "False"
            ]
          },
          "metadata": {},
          "execution_count": 202
        }
      ]
    },
    {
      "cell_type": "code",
      "source": [
        "#how to check for values\n",
        "menu.values() #all values\n",
        "10.99 in menu.values()"
      ],
      "metadata": {
        "colab": {
          "base_uri": "https://localhost:8080/"
        },
        "id": "0WoVMpsrTtp4",
        "outputId": "1e2e2f0b-c76f-4780-b2d0-756bc7448dee"
      },
      "execution_count": 207,
      "outputs": [
        {
          "output_type": "execute_result",
          "data": {
            "text/plain": [
              "True"
            ]
          },
          "metadata": {},
          "execution_count": 207
        }
      ]
    },
    {
      "cell_type": "code",
      "source": [
        "49.99 not in menu.values()"
      ],
      "metadata": {
        "colab": {
          "base_uri": "https://localhost:8080/"
        },
        "id": "llnAGdeFUKE1",
        "outputId": "b72717eb-9aa2-421d-c93e-c00a861172ec"
      },
      "execution_count": 208,
      "outputs": [
        {
          "output_type": "execute_result",
          "data": {
            "text/plain": [
              "True"
            ]
          },
          "metadata": {},
          "execution_count": 208
        }
      ]
    },
    {
      "cell_type": "markdown",
      "source": [
        "#Classes\n",
        "* A class is blueprint/template for creating objects\n",
        "* A class is where a developer define the functionality of objects. It defines the methods etc\n",
        "* every string made from string class is going to have these methods\n",
        "* every dictionary made from dictionary class is going to have these methods [pop, etc]\n",
        "\n",
        "* A class defines the methods/functionalities that the objects made from it will have\n",
        "* An object is an instance of the class it is made from\n",
        "* The act of creating an object from a class is called instantiation\n",
        "* Every time we've worked with a Python object, it's been instantiated from a class\n",
        "* In real world terms, a class is a blueprint and the house we build is the instance/object\n",
        "* Syntax options like \" \" string or [ ] list or { } dict are shorcuts for instantiation\n",
        "* for other classes, we'll need to use classname() syntax to instantiate an object; similar to invoking a function\n",
        "* Much like functions and methods, some class instantiations will require arguments\n",
        "* pandas giving us access to more classes"
      ],
      "metadata": {
        "id": "YjBtTKrQURvk"
      }
    },
    {
      "cell_type": "markdown",
      "source": [
        "#Navigating Libraries using Jupyter Lab\n",
        "* won't load library itself\n",
        "* use import keyword and optionally you can choose to add alias\n",
        "* pd is like a lobby to the library. Namespace or prefix you'll always have to begin with this\n",
        "* use tab key for ideas"
      ],
      "metadata": {
        "id": "jDh3gugpkeDx"
      }
    },
    {
      "cell_type": "code",
      "source": [
        "import pandas as pd"
      ],
      "metadata": {
        "id": "eKqmqkbzUTH-"
      },
      "execution_count": 209,
      "outputs": []
    },
    {
      "cell_type": "code",
      "source": [
        "\"\"\n",
        "\n",
        "[]\n",
        "\n"
      ],
      "metadata": {
        "colab": {
          "base_uri": "https://localhost:8080/"
        },
        "id": "Ju1VADckkvn3",
        "outputId": "62d813a9-2852-4ce6-dd60-78b4a896f86b"
      },
      "execution_count": 210,
      "outputs": [
        {
          "output_type": "execute_result",
          "data": {
            "text/plain": [
              "[]"
            ]
          },
          "metadata": {},
          "execution_count": 210
        }
      ]
    },
    {
      "cell_type": "code",
      "source": [
        "pd.arrays #it belongs to pandas so without pd it will throw an error"
      ],
      "metadata": {
        "colab": {
          "base_uri": "https://localhost:8080/"
        },
        "id": "vthnIpf0lTct",
        "outputId": "83cb119f-9720-4bee-b9c1-ead1087eded1"
      },
      "execution_count": 216,
      "outputs": [
        {
          "output_type": "execute_result",
          "data": {
            "text/plain": [
              "<module 'pandas.arrays' from '/usr/local/lib/python3.10/dist-packages/pandas/arrays/__init__.py'>"
            ]
          },
          "metadata": {},
          "execution_count": 216
        }
      ]
    },
    {
      "cell_type": "code",
      "source": [
        "arrays"
      ],
      "metadata": {
        "colab": {
          "base_uri": "https://localhost:8080/",
          "height": 141
        },
        "id": "gEAycg08mHbn",
        "outputId": "f5934491-05a7-4ee8-d180-c572b424ce41"
      },
      "execution_count": 212,
      "outputs": [
        {
          "output_type": "error",
          "ename": "NameError",
          "evalue": "name 'arrays' is not defined",
          "traceback": [
            "\u001b[0;31m---------------------------------------------------------------------------\u001b[0m",
            "\u001b[0;31mNameError\u001b[0m                                 Traceback (most recent call last)",
            "\u001b[0;32m<ipython-input-212-139e51f22e96>\u001b[0m in \u001b[0;36m<cell line: 1>\u001b[0;34m()\u001b[0m\n\u001b[0;32m----> 1\u001b[0;31m \u001b[0marrays\u001b[0m\u001b[0;34m\u001b[0m\u001b[0;34m\u001b[0m\u001b[0m\n\u001b[0m",
            "\u001b[0;31mNameError\u001b[0m: name 'arrays' is not defined"
          ]
        }
      ]
    },
    {
      "cell_type": "code",
      "source": [
        "pd.annotations #instance; pre-built objects mostly for library internals"
      ],
      "metadata": {
        "colab": {
          "base_uri": "https://localhost:8080/"
        },
        "id": "jWI7AL_6mI1S",
        "outputId": "6c5a396e-7a17-4c2b-ff8c-520f861c8d81"
      },
      "execution_count": 214,
      "outputs": [
        {
          "output_type": "execute_result",
          "data": {
            "text/plain": [
              "_Feature((3, 7, 0, 'beta', 1), (3, 11, 0, 'alpha', 0), 16777216)"
            ]
          },
          "metadata": {},
          "execution_count": 214
        }
      ]
    },
    {
      "cell_type": "code",
      "source": [
        "#module is like a nested folder\n",
        "pd.api #api not a class or function but one more level deeper in pandas\n",
        "pd.api.types #use tab to see what is available in this folder\n",
        "pd.Categorical"
      ],
      "metadata": {
        "colab": {
          "base_uri": "https://localhost:8080/",
          "height": 204
        },
        "id": "aJZcOnDRmvTy",
        "outputId": "af33e2fe-220d-4d54-ce8f-9eca6569ac39"
      },
      "execution_count": 217,
      "outputs": [
        {
          "output_type": "execute_result",
          "data": {
            "text/plain": [
              "pandas.core.arrays.categorical.Categorical"
            ],
            "text/html": [
              "<div style=\"max-width:800px; border: 1px solid var(--colab-border-color);\"><style>\n",
              "      pre.function-repr-contents {\n",
              "        overflow-x: auto;\n",
              "        padding: 8px 12px;\n",
              "        max-height: 500px;\n",
              "      }\n",
              "\n",
              "      pre.function-repr-contents.function-repr-contents-collapsed {\n",
              "        cursor: pointer;\n",
              "        max-height: 100px;\n",
              "      }\n",
              "    </style>\n",
              "    <pre style=\"white-space: initial; background:\n",
              "         var(--colab-secondary-surface-color); padding: 8px 12px;\n",
              "         border-bottom: 1px solid var(--colab-border-color);\"><b>pandas.core.arrays.categorical.Categorical</b><br/>def __init__(values, categories=None, ordered=None, dtype: Dtype | None=None, fastpath: bool | lib.NoDefault=lib.no_default, copy: bool=True) -&gt; None</pre><pre class=\"function-repr-contents function-repr-contents-collapsed\" style=\"\"><a class=\"filepath\" style=\"display:none\" href=\"#\">/usr/local/lib/python3.10/dist-packages/pandas/core/arrays/categorical.py</a>Represent a categorical variable in classic R / S-plus fashion.\n",
              "\n",
              "`Categoricals` can only take on a limited, and usually fixed, number\n",
              "of possible values (`categories`). In contrast to statistical categorical\n",
              "variables, a `Categorical` might have an order, but numerical operations\n",
              "(additions, divisions, ...) are not possible.\n",
              "\n",
              "All values of the `Categorical` are either in `categories` or `np.nan`.\n",
              "Assigning values outside of `categories` will raise a `ValueError`. Order\n",
              "is defined by the order of the `categories`, not lexical order of the\n",
              "values.\n",
              "\n",
              "Parameters\n",
              "----------\n",
              "values : list-like\n",
              "    The values of the categorical. If categories are given, values not in\n",
              "    categories will be replaced with NaN.\n",
              "categories : Index-like (unique), optional\n",
              "    The unique categories for this categorical. If not given, the\n",
              "    categories are assumed to be the unique values of `values` (sorted, if\n",
              "    possible, otherwise in the order in which they appear).\n",
              "ordered : bool, default False\n",
              "    Whether or not this categorical is treated as a ordered categorical.\n",
              "    If True, the resulting categorical will be ordered.\n",
              "    An ordered categorical respects, when sorted, the order of its\n",
              "    `categories` attribute (which in turn is the `categories` argument, if\n",
              "    provided).\n",
              "dtype : CategoricalDtype\n",
              "    An instance of ``CategoricalDtype`` to use for this categorical.\n",
              "\n",
              "Attributes\n",
              "----------\n",
              "categories : Index\n",
              "    The categories of this categorical.\n",
              "codes : ndarray\n",
              "    The codes (integer positions, which point to the categories) of this\n",
              "    categorical, read only.\n",
              "ordered : bool\n",
              "    Whether or not this Categorical is ordered.\n",
              "dtype : CategoricalDtype\n",
              "    The instance of ``CategoricalDtype`` storing the ``categories``\n",
              "    and ``ordered``.\n",
              "\n",
              "Methods\n",
              "-------\n",
              "from_codes\n",
              "__array__\n",
              "\n",
              "Raises\n",
              "------\n",
              "ValueError\n",
              "    If the categories do not validate.\n",
              "TypeError\n",
              "    If an explicit ``ordered=True`` is given but no `categories` and the\n",
              "    `values` are not sortable.\n",
              "\n",
              "See Also\n",
              "--------\n",
              "CategoricalDtype : Type for categorical data.\n",
              "CategoricalIndex : An Index with an underlying ``Categorical``.\n",
              "\n",
              "Notes\n",
              "-----\n",
              "See the `user guide\n",
              "&lt;https://pandas.pydata.org/pandas-docs/stable/user_guide/categorical.html&gt;`__\n",
              "for more.\n",
              "\n",
              "Examples\n",
              "--------\n",
              "&gt;&gt;&gt; pd.Categorical([1, 2, 3, 1, 2, 3])\n",
              "[1, 2, 3, 1, 2, 3]\n",
              "Categories (3, int64): [1, 2, 3]\n",
              "\n",
              "&gt;&gt;&gt; pd.Categorical([&#x27;a&#x27;, &#x27;b&#x27;, &#x27;c&#x27;, &#x27;a&#x27;, &#x27;b&#x27;, &#x27;c&#x27;])\n",
              "[&#x27;a&#x27;, &#x27;b&#x27;, &#x27;c&#x27;, &#x27;a&#x27;, &#x27;b&#x27;, &#x27;c&#x27;]\n",
              "Categories (3, object): [&#x27;a&#x27;, &#x27;b&#x27;, &#x27;c&#x27;]\n",
              "\n",
              "Missing values are not included as a category.\n",
              "\n",
              "&gt;&gt;&gt; c = pd.Categorical([1, 2, 3, 1, 2, 3, np.nan])\n",
              "&gt;&gt;&gt; c\n",
              "[1, 2, 3, 1, 2, 3, NaN]\n",
              "Categories (3, int64): [1, 2, 3]\n",
              "\n",
              "However, their presence is indicated in the `codes` attribute\n",
              "by code `-1`.\n",
              "\n",
              "&gt;&gt;&gt; c.codes\n",
              "array([ 0,  1,  2,  0,  1,  2, -1], dtype=int8)\n",
              "\n",
              "Ordered `Categoricals` can be sorted according to the custom order\n",
              "of the categories and can have a min and max value.\n",
              "\n",
              "&gt;&gt;&gt; c = pd.Categorical([&#x27;a&#x27;, &#x27;b&#x27;, &#x27;c&#x27;, &#x27;a&#x27;, &#x27;b&#x27;, &#x27;c&#x27;], ordered=True,\n",
              "...                    categories=[&#x27;c&#x27;, &#x27;b&#x27;, &#x27;a&#x27;])\n",
              "&gt;&gt;&gt; c\n",
              "[&#x27;a&#x27;, &#x27;b&#x27;, &#x27;c&#x27;, &#x27;a&#x27;, &#x27;b&#x27;, &#x27;c&#x27;]\n",
              "Categories (3, object): [&#x27;c&#x27; &lt; &#x27;b&#x27; &lt; &#x27;a&#x27;]\n",
              "&gt;&gt;&gt; c.min()\n",
              "&#x27;c&#x27;</pre>\n",
              "      <script>\n",
              "      if (google.colab.kernel.accessAllowed && google.colab.files && google.colab.files.view) {\n",
              "        for (const element of document.querySelectorAll('.filepath')) {\n",
              "          element.style.display = 'block'\n",
              "          element.onclick = (event) => {\n",
              "            event.preventDefault();\n",
              "            event.stopPropagation();\n",
              "            google.colab.files.view(element.textContent, 246);\n",
              "          };\n",
              "        }\n",
              "      }\n",
              "      for (const element of document.querySelectorAll('.function-repr-contents')) {\n",
              "        element.onclick = (event) => {\n",
              "          event.preventDefault();\n",
              "          event.stopPropagation();\n",
              "          element.classList.toggle('function-repr-contents-collapsed');\n",
              "        };\n",
              "      }\n",
              "      </script>\n",
              "      </div>"
            ]
          },
          "metadata": {},
          "execution_count": 217
        }
      ]
    },
    {
      "cell_type": "code",
      "source": [
        "# some_library\n",
        "# import some_library as sl\n",
        "# sl.Categorical # even though name of class is same but this would be different because pd and sl are different libraries so might have different functionalities"
      ],
      "metadata": {
        "id": "LYab32S9nmB4"
      },
      "execution_count": 218,
      "outputs": []
    }
  ]
}