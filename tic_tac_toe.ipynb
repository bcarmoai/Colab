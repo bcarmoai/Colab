{
  "nbformat": 4,
  "nbformat_minor": 0,
  "metadata": {
    "colab": {
      "provenance": [],
      "toc_visible": true,
      "authorship_tag": "ABX9TyPxR04VtL9nHu9IyHAr5uzG",
      "include_colab_link": true
    },
    "kernelspec": {
      "name": "python3",
      "display_name": "Python 3"
    },
    "language_info": {
      "name": "python"
    }
  },
  "cells": [
    {
      "cell_type": "markdown",
      "metadata": {
        "id": "view-in-github",
        "colab_type": "text"
      },
      "source": [
        "<a href=\"https://colab.research.google.com/github/bcarmoai/Colab/blob/main/tic_tac_toe.ipynb\" target=\"_parent\"><img src=\"https://colab.research.google.com/assets/colab-badge.svg\" alt=\"Open In Colab\"/></a>"
      ]
    },
    {
      "cell_type": "code",
      "execution_count": null,
      "metadata": {
        "colab": {
          "base_uri": "https://localhost:8080/"
        },
        "id": "XmvIVRXcBCdP",
        "outputId": "88a1200f-ce64-43f2-dd89-499a300f2bef"
      },
      "outputs": [
        {
          "output_type": "stream",
          "name": "stdout",
          "text": [
            " | | \n",
            "_ _ _\n",
            " | | \n",
            "_ _ _ \n",
            " | | \n",
            "\n"
          ]
        }
      ],
      "source": [
        "# Tic tac toe board game\n",
        "# The user enters the positions at which he wants the move to be made\n",
        "# Aishwarya Arora\n",
        "\n",
        "# Defining the board positions\n",
        "board = {'top-left':\" \", \"top-middle\": \" \", \"top-right\":\" \",\n",
        "         'middle-left':\" \", \"middle-middle\": \" \", \"middle-right\":\" \",\n",
        "         'bottom-left':\" \", \"bottom-middle\": \" \", \"bottom-right\":\" \"}\n",
        "\n",
        "# Pretty printing the board\n",
        "def board_printing(board):\n",
        "    print(board['top-left'] + \"|\" + board['top-middle'] + \"|\" + board['top-right'])\n",
        "    print(\"_ _ _\")\n",
        "    print(board['middle-left'] + \"|\" + board['middle-middle'] + \"|\" + board['middle-right'])\n",
        "    print(\"_ _ _ \")\n",
        "    print(board['bottom-left'] + \"|\" + board['bottom-middle'] + \"|\" + board['bottom-right'])\n",
        "    return \"\"\n",
        "\n",
        "# Since the first move in tic tac toe is X\n",
        "move = \"X\"\n",
        "move_count = 0\n",
        "for i in range(9):\n",
        "    print(board_printing(board))\n",
        "    turn = input(\"Where do you wanna move: \")\n",
        "    while turn not in board:   # If the user enters a position which does not exist, this loop will keep on asking the user to enter the correct position\n",
        "        print(\"The given position does not exit, please enter a position \")\n",
        "        print()\n",
        "        turn = input(\"Where do you wanna move: \")\n",
        "\n",
        "    if board[turn] == \" \":\n",
        "        board[turn] = move\n",
        "        move_count += 1\n",
        "    else:\n",
        "        print(\"Position has already been filled\")       # Not allowing the previously filled position to be replaced\n",
        "        continue\n",
        "    if move == \"X\":\n",
        "        move = \"O\"\n",
        "    else:\n",
        "        move = \"X\"\n",
        "\n",
        "    # Matching all the possible tic tac toe patterns from diagonals, to across the side and from top to bottom etc.\n",
        "    if board[\"top-left\"] == board[\"top-middle\"] == board[\"top-right\"] != \" \" or board[\"middle-left\"] == board[\"middle-middle\"] == board[\"middle-right\"] != \" \" or \\\n",
        "            board[\"bottom-left\"] == board[\"bottom-middle\"] == board[\"bottom-right\"] != \" \" or board[\"top-left\"] == board[\"middle-middle\"] == board[\"bottom-right\"] != \" \" or \\\n",
        "            board[\"top-right\"] == board[\"middle-middle\"] == board[\"bottom-left\"] != \" \" or board[\"top-left\"] == board[\"middle-left\"] == board[\"bottom-left\"] != \" \" or \\\n",
        "            board[\"top-middle\"] == board[\"middle-middle\"] == board[\"bottom-middle\"] != \" \" or board[\"top-right\"] == board[\"middle-right\"] == board[\"bottom-right\"] != \" \":\n",
        "            board_printing(board)\n",
        "            print()\n",
        "            print(\"Game over\")\n",
        "            break\n",
        "\n",
        "    if move_count == 9:      # As the tic tac toe board can only have 9 moves, if all the moves are used, it is declared a tie\n",
        "        print()\n",
        "        print(\"Game over! The result was a tie\")\n",
        "        break\n",
        "\n",
        "board_printing(board)"
      ]
    }
  ]
}