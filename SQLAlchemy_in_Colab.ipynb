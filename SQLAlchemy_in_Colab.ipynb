{
  "nbformat": 4,
  "nbformat_minor": 0,
  "metadata": {
    "colab": {
      "provenance": [],
      "authorship_tag": "ABX9TyOFNAQ/8g7fiWfRU615dP0N",
      "include_colab_link": true
    },
    "kernelspec": {
      "name": "python3",
      "display_name": "Python 3"
    },
    "language_info": {
      "name": "python"
    }
  },
  "cells": [
    {
      "cell_type": "markdown",
      "metadata": {
        "id": "view-in-github",
        "colab_type": "text"
      },
      "source": [
        "<a href=\"https://colab.research.google.com/github/bcarmoai/Colab/blob/main/SQLAlchemy_in_Colab.ipynb\" target=\"_parent\"><img src=\"https://colab.research.google.com/assets/colab-badge.svg\" alt=\"Open In Colab\"/></a>"
      ]
    },
    {
      "cell_type": "code",
      "source": [
        "import sqlalchemy"
      ],
      "metadata": {
        "id": "QiI4GFgaMIqD"
      },
      "execution_count": 1,
      "outputs": []
    },
    {
      "cell_type": "code",
      "source": [
        "engine = sqlalchemy.create_engine('sqlite:///:memory:')"
      ],
      "metadata": {
        "id": "hVKFcoMANDzZ"
      },
      "execution_count": 2,
      "outputs": []
    },
    {
      "cell_type": "code",
      "source": [
        "conn = engine.connect()"
      ],
      "metadata": {
        "id": "Q0Dhc3gqNm4_"
      },
      "execution_count": 5,
      "outputs": []
    },
    {
      "cell_type": "code",
      "source": [
        "from sqlalchemy import Table, Column, Integer, String, MetaData\n",
        "\n",
        "metadata = MetaData()\n",
        "\n",
        "users = Table('users', metadata,\n",
        "    Column('id', Integer, primary_key=True),\n",
        "    Column('name', String),\n",
        "    Column('fullname', String),\n",
        ")\n",
        "\n",
        "metadata.create_all(engine)"
      ],
      "metadata": {
        "id": "gI0GPkL-NK8P"
      },
      "execution_count": 3,
      "outputs": []
    },
    {
      "cell_type": "code",
      "source": [
        "ins = users.insert().values(id=1, name='jack', fullname='Jack Jones')\n",
        "conn.execute(ins)"
      ],
      "metadata": {
        "colab": {
          "base_uri": "https://localhost:8080/"
        },
        "id": "vfsTMsWPNU6V",
        "outputId": "a69a27c7-d27b-4bbb-fbb1-3102cf97eb44"
      },
      "execution_count": 6,
      "outputs": [
        {
          "output_type": "execute_result",
          "data": {
            "text/plain": [
              "<sqlalchemy.engine.cursor.CursorResult at 0x7810101eae00>"
            ]
          },
          "metadata": {},
          "execution_count": 6
        }
      ]
    },
    {
      "cell_type": "code",
      "source": [
        "from sqlalchemy import select\n",
        "\n",
        "# Create a select statement to retrieve all columns from the 'users' table\n",
        "stmt = select(users)\n",
        "\n",
        "# Execute the select statement and fetch all results\n",
        "result = conn.execute(stmt)\n",
        "rows = result.fetchall()\n",
        "\n",
        "# Print the data\n",
        "for row in rows:\n",
        "    print(row)"
      ],
      "metadata": {
        "colab": {
          "base_uri": "https://localhost:8080/"
        },
        "id": "WSqBhAkmNr3H",
        "outputId": "37fe2a75-135b-4dd6-b4d9-5ea3de6e4586"
      },
      "execution_count": 9,
      "outputs": [
        {
          "output_type": "stream",
          "name": "stdout",
          "text": [
            "(1, 'jack', 'Jack Jones')\n"
          ]
        }
      ]
    }
  ]
}