{
  "nbformat": 4,
  "nbformat_minor": 0,
  "metadata": {
    "colab": {
      "provenance": [],
      "authorship_tag": "ABX9TyNbdQYEToZrSgiBuuQbrs/6",
      "include_colab_link": true
    },
    "kernelspec": {
      "name": "python3",
      "display_name": "Python 3"
    },
    "language_info": {
      "name": "python"
    }
  },
  "cells": [
    {
      "cell_type": "markdown",
      "metadata": {
        "id": "view-in-github",
        "colab_type": "text"
      },
      "source": [
        "<a href=\"https://colab.research.google.com/github/bcarmoai/Colab/blob/main/borris_course_Chapter1_(AA).ipynb\" target=\"_parent\"><img src=\"https://colab.research.google.com/assets/colab-badge.svg\" alt=\"Open In Colab\"/></a>"
      ]
    },
    {
      "cell_type": "markdown",
      "source": [
        "**Chapter 1: Installation and Setup**\n",
        "\n",
        "1. Molding the data into the right way\n",
        "2. white spaces and typos\n",
        "3. Pandas: Data analysis library built on top of the Python programming language\n",
        "4. Library: extension or add-on on the core language; bundle of code that developers have written to help cumminity to solve a particular problem\n",
        "5. Pandas: robust toolkit for analysing, filtering, maniplating, aggregating, merging, pivoting and cleaning data.\n",
        "\n",
        "* better than excel, better working wth larger datasets; Pandas is short after 'panel data structures'; data sets with observations over time\n",
        "\n",
        "* each sections of this course focuses on a specific data structure\n"
      ],
      "metadata": {
        "id": "ppSW-JjrQqRH"
      }
    },
    {
      "cell_type": "code",
      "source": [
        "import pandas as pd\n",
        "import numexpr as np\n"
      ],
      "metadata": {
        "id": "BHoaKphUQxdW"
      },
      "execution_count": 1,
      "outputs": []
    },
    {
      "cell_type": "code",
      "source": [
        "pd.show_versions()"
      ],
      "metadata": {
        "colab": {
          "base_uri": "https://localhost:8080/"
        },
        "collapsed": true,
        "id": "_7lFF126j8sE",
        "outputId": "1de8e3c0-7a0f-463d-fcb6-a6f8de2646ad"
      },
      "execution_count": 2,
      "outputs": [
        {
          "output_type": "stream",
          "name": "stderr",
          "text": [
            "/usr/local/lib/python3.10/dist-packages/_distutils_hack/__init__.py:32: UserWarning: Setuptools is replacing distutils. Support for replacing an already imported distutils is deprecated. In the future, this condition will fail. Register concerns at https://github.com/pypa/setuptools/issues/new?template=distutils-deprecation.yml\n",
            "  warnings.warn(\n"
          ]
        },
        {
          "output_type": "stream",
          "name": "stdout",
          "text": [
            "\n",
            "INSTALLED VERSIONS\n",
            "------------------\n",
            "commit                : d9cdd2ee5a58015ef6f4d15c7226110c9aab8140\n",
            "python                : 3.10.12.final.0\n",
            "python-bits           : 64\n",
            "OS                    : Linux\n",
            "OS-release            : 6.1.85+\n",
            "Version               : #1 SMP PREEMPT_DYNAMIC Thu Jun 27 21:05:47 UTC 2024\n",
            "machine               : x86_64\n",
            "processor             : x86_64\n",
            "byteorder             : little\n",
            "LC_ALL                : en_US.UTF-8\n",
            "LANG                  : en_US.UTF-8\n",
            "LOCALE                : en_US.UTF-8\n",
            "\n",
            "pandas                : 2.2.2\n",
            "numpy                 : 1.26.4\n",
            "pytz                  : 2024.2\n",
            "dateutil              : 2.8.2\n",
            "setuptools            : 71.0.4\n",
            "pip                   : 24.1.2\n",
            "Cython                : 3.0.11\n",
            "pytest                : 7.4.4\n",
            "hypothesis            : None\n",
            "sphinx                : 5.0.2\n",
            "blosc                 : None\n",
            "feather               : None\n",
            "xlsxwriter            : None\n",
            "lxml.etree            : 4.9.4\n",
            "html5lib              : 1.1\n",
            "pymysql               : None\n",
            "psycopg2              : 2.9.9\n",
            "jinja2                : 3.1.4\n",
            "IPython               : 7.34.0\n",
            "pandas_datareader     : 0.10.0\n",
            "adbc-driver-postgresql: None\n",
            "adbc-driver-sqlite    : None\n",
            "bs4                   : 4.12.3\n",
            "bottleneck            : 1.4.0\n",
            "dataframe-api-compat  : None\n",
            "fastparquet           : None\n",
            "fsspec                : 2024.6.1\n",
            "gcsfs                 : 2024.6.1\n",
            "matplotlib            : 3.7.1\n",
            "numba                 : 0.60.0\n",
            "numexpr               : 2.10.1\n",
            "odfpy                 : None\n",
            "openpyxl              : 3.1.5\n",
            "pandas_gbq            : 0.23.2\n",
            "pyarrow               : 16.1.0\n",
            "pyreadstat            : None\n",
            "python-calamine       : None\n",
            "pyxlsb                : None\n",
            "s3fs                  : None\n",
            "scipy                 : 1.13.1\n",
            "sqlalchemy            : 2.0.35\n",
            "tables                : 3.8.0\n",
            "tabulate              : 0.9.0\n",
            "xarray                : 2024.9.0\n",
            "xlrd                  : 2.0.1\n",
            "zstandard             : None\n",
            "tzdata                : 2024.2\n",
            "qtpy                  : None\n",
            "pyqt5                 : None\n"
          ]
        }
      ]
    },
    {
      "cell_type": "markdown",
      "source": [
        ".ipynb is an extension of jupyter notebook files\n",
        "-jupyter notebook consists of cells, python program running in background so that it can run the required and in the cell. that's what the Kernel/Server is; listening to our commands. If you're using anacoda you have to do shut down all so that it closes the kernel as well. Good idea to shut off so taht it doesn't uses the memory and its more efficient\n",
        "\n",
        "**Jupyter Notebook**\n",
        "*  A cell is in an input for cell, can be pythn code, or descritpion, it can also hold a video, diagram. It's like a visual notebook to document some kind of code\n",
        "*  Almost like a story to show user how you arrive at the output and what are you trying to do\n",
        "*   Sequential and a logical view\n",
        "*   2 modes; command and edit mode\n",
        "*   When you press ctrl or cmd you enter the command mode; to perform global level operation.\n",
        "*   A- creates a new cell above the current one\n",
        "*   B- creates a cell below the current one\n",
        "*   Each cell can have a different type: it doesn't have to a code cell; three options: CODE, MARKDOWN, RAW, for example this one is text cell\n",
        "*   MARKDOWN: formating language; consists of plain text but uses special symbols to do some formatting like header is # , bold is **;\n",
        "\n",
        "Testing\n",
        "##HEADER1\n",
        "* BULLET 1\n",
        "\n",
        "\n",
        "\n",
        "\n",
        "\n",
        "\n",
        "\n"
      ],
      "metadata": {
        "id": "fclqcJw_kefY"
      }
    },
    {
      "cell_type": "markdown",
      "source": [
        "Code Cell Execution"
      ],
      "metadata": {
        "id": "GYLnI7Imn9Q6"
      }
    },
    {
      "cell_type": "code",
      "source": [
        "1 + 1"
      ],
      "metadata": {
        "colab": {
          "base_uri": "https://localhost:8080/"
        },
        "id": "3cpJjP_skQwU",
        "outputId": "da093fea-4794-40db-cd0d-e65fa2c79fc2"
      },
      "execution_count": 5,
      "outputs": [
        {
          "output_type": "execute_result",
          "data": {
            "text/plain": [
              "2"
            ]
          },
          "metadata": {},
          "execution_count": 5
        }
      ]
    },
    {
      "cell_type": "markdown",
      "source": [
        "* keyboard shortcut to run : shift + enter; not ony just run but jumps to the next cell as well\n",
        "* if you do ctrl+enter; it's going to run but you'll stay in the same cell; if you are on last cell and do shift+enter it's going to reate the next cell itself"
      ],
      "metadata": {
        "id": "2D6paVheoN_w"
      }
    },
    {
      "cell_type": "code",
      "source": [
        "8-5"
      ],
      "metadata": {
        "colab": {
          "base_uri": "https://localhost:8080/"
        },
        "id": "jZfvpoE2oaNe",
        "outputId": "e700057f-784e-4d69-ef7a-5ec7daf2a3c6"
      },
      "execution_count": 7,
      "outputs": [
        {
          "output_type": "execute_result",
          "data": {
            "text/plain": [
              "3"
            ]
          },
          "metadata": {},
          "execution_count": 7
        }
      ]
    },
    {
      "cell_type": "markdown",
      "source": [
        "* can run cell in any order\n"
      ],
      "metadata": {
        "id": "dkt_S38-ohKZ"
      }
    },
    {
      "cell_type": "code",
      "source": [
        "1+1+1"
      ],
      "metadata": {
        "colab": {
          "base_uri": "https://localhost:8080/"
        },
        "id": "06Lsjc43odXh",
        "outputId": "53853a03-1f59-4225-b5d5-824fa64b7595"
      },
      "execution_count": 8,
      "outputs": [
        {
          "output_type": "execute_result",
          "data": {
            "text/plain": [
              "3"
            ]
          },
          "metadata": {},
          "execution_count": 8
        }
      ]
    },
    {
      "cell_type": "markdown",
      "source": [
        "* if there are multiple lines of code in one cell; it shows the result of the last evaluation; the line above is going to run but it just did nothing with that value"
      ],
      "metadata": {
        "id": "f7TkOe8HqdzB"
      }
    },
    {
      "cell_type": "code",
      "source": [
        "8-5\n",
        "18-12\n",
        "2-3"
      ],
      "metadata": {
        "colab": {
          "base_uri": "https://localhost:8080/"
        },
        "id": "zc-k0_YrqUzY",
        "outputId": "361495fc-bc36-45c1-b878-8e2e9d8198a9"
      },
      "execution_count": 9,
      "outputs": [
        {
          "output_type": "execute_result",
          "data": {
            "text/plain": [
              "-1"
            ]
          },
          "metadata": {},
          "execution_count": 9
        }
      ]
    },
    {
      "cell_type": "markdown",
      "source": [
        "* Installing more libraries in python\n",
        "* which libraries and extension you want to import so that you can use it's functionality"
      ],
      "metadata": {
        "id": "-PscLduEskfB"
      }
    },
    {
      "cell_type": "code",
      "source": [
        "import numpy as np"
      ],
      "metadata": {
        "id": "oZIN90rrsclb"
      },
      "execution_count": 10,
      "outputs": []
    },
    {
      "cell_type": "markdown",
      "source": [
        "* np is the alias for numpy"
      ],
      "metadata": {
        "id": "dQ6FewaNtTxR"
      }
    },
    {
      "cell_type": "code",
      "source": [
        "np.array([1,2,3])"
      ],
      "metadata": {
        "colab": {
          "base_uri": "https://localhost:8080/"
        },
        "id": "6cYWK7iDs1-g",
        "outputId": "3ec1850b-9a5f-45a2-ac87-55d942a0651d"
      },
      "execution_count": 12,
      "outputs": [
        {
          "output_type": "execute_result",
          "data": {
            "text/plain": [
              "array([1, 2, 3])"
            ]
          },
          "metadata": {},
          "execution_count": 12
        }
      ]
    }
  ]
}