{
  "metadata": {
    "kernelspec": {
      "name": "python",
      "display_name": "Python (Pyodide)",
      "language": "python"
    },
    "language_info": {
      "codemirror_mode": {
        "name": "python",
        "version": 3
      },
      "file_extension": ".py",
      "mimetype": "text/x-python",
      "name": "python",
      "nbconvert_exporter": "python",
      "pygments_lexer": "ipython3",
      "version": "3.8"
    }
  },
  "nbformat_minor": 5,
  "nbformat": 4,
  "cells": [
    {
      "id": "189f0195-5503-4dfa-82f4-1c563640dc1f",
      "cell_type": "code",
      "source": "#Python collections",
      "metadata": {
        "trusted": true
      },
      "outputs": [],
      "execution_count": 1
    },
    {
      "id": "733144df-4791-4dcb-a47f-6512297d8736",
      "cell_type": "code",
      "source": "#List -ordered in nature, support data changes: dynamic arrays, flexible containers\n#tuples -immutable  fixed set of data that doesn't change\n#set -supports unique elements, even if you add duplicates will only keep one of each\n#dictionaries - perfect for structured data, key value pairs, supports JSON",
      "metadata": {
        "trusted": true
      },
      "outputs": [],
      "execution_count": 3
    },
    {
      "id": "2d35276f-041f-4a7c-a791-b714249c4678",
      "cell_type": "code",
      "source": "#Tuples",
      "metadata": {
        "trusted": true
      },
      "outputs": [],
      "execution_count": 4
    },
    {
      "id": "873a6348-036f-4a81-b8fd-0a25996b6741",
      "cell_type": "code",
      "source": "# ordered and unchangeable- immutable\n# can access them using index as well",
      "metadata": {
        "trusted": true
      },
      "outputs": [],
      "execution_count": 5
    },
    {
      "id": "d509ae3f-5c78-447b-b521-6e09c39b2a0c",
      "cell_type": "code",
      "source": "employee = (1, 'john', 'Mexico', 753753895)\nprint(employee) # error when last number started with 0",
      "metadata": {
        "trusted": true
      },
      "outputs": [
        {
          "name": "stdout",
          "output_type": "stream",
          "text": "(1, 'john', 'Mexico', 753753895)\n"
        }
      ],
      "execution_count": 8
    },
    {
      "id": "df6a7c2a-1195-4a43-9406-f8e70e84fb84",
      "cell_type": "code",
      "source": "# heterogeneous\n# can access using index",
      "metadata": {
        "trusted": true
      },
      "outputs": [],
      "execution_count": 9
    },
    {
      "id": "483ec55e-e090-4a9d-b752-2a3f6da87dc2",
      "cell_type": "code",
      "source": "print(employee[0]) #throws the first element",
      "metadata": {
        "trusted": true
      },
      "outputs": [
        {
          "name": "stdout",
          "output_type": "stream",
          "text": "1\n"
        }
      ],
      "execution_count": 11
    },
    {
      "id": "e96d6859-b4dd-4981-b459-b6c8dcebda89",
      "cell_type": "code",
      "source": "print(employee[-1]) #last element if you dont know the size of the tuple or can also use length",
      "metadata": {
        "trusted": true
      },
      "outputs": [
        {
          "name": "stdout",
          "output_type": "stream",
          "text": "753753895\n"
        }
      ],
      "execution_count": 13
    },
    {
      "id": "c5a54369-90f4-4aac-8ef1-459735df7e0d",
      "cell_type": "code",
      "source": "employee[1]= 'Raman' #tuples are immutable",
      "metadata": {
        "trusted": true
      },
      "outputs": [
        {
          "ename": "<class 'TypeError'>",
          "evalue": "'tuple' object does not support item assignment",
          "traceback": [
            "\u001b[0;31m---------------------------------------------------------------------------\u001b[0m",
            "\u001b[0;31mTypeError\u001b[0m                                 Traceback (most recent call last)",
            "Cell \u001b[0;32mIn[14], line 1\u001b[0m\n\u001b[0;32m----> 1\u001b[0m \u001b[43memployee\u001b[49m\u001b[43m[\u001b[49m\u001b[38;5;241;43m1\u001b[39;49m\u001b[43m]\u001b[49m\u001b[38;5;241m=\u001b[39m \u001b[38;5;124m'\u001b[39m\u001b[38;5;124mRaman\u001b[39m\u001b[38;5;124m'\u001b[39m\n",
            "\u001b[0;31mTypeError\u001b[0m: 'tuple' object does not support item assignment"
          ],
          "output_type": "error"
        }
      ],
      "execution_count": 14
    },
    {
      "id": "62554b0f-742f-43ae-a670-201ef5495480",
      "cell_type": "code",
      "source": "#if you want to change convert this into the list because they are mutable",
      "metadata": {
        "trusted": true
      },
      "outputs": [],
      "execution_count": 15
    },
    {
      "id": "58e504af-4dc3-4d64-9025-0588394252fb",
      "cell_type": "code",
      "source": "new_emp=list(employee)",
      "metadata": {
        "trusted": true
      },
      "outputs": [],
      "execution_count": 20
    },
    {
      "id": "64cc3f0f-0010-475f-8ecf-92549dc71c1f",
      "cell_type": "code",
      "source": "new_emp[1]='raman'",
      "metadata": {
        "trusted": true
      },
      "outputs": [],
      "execution_count": 22
    },
    {
      "id": "179fbe0c-4d88-4f87-9211-70ed033e32b5",
      "cell_type": "code",
      "source": "employee=tuple(new_emp)",
      "metadata": {
        "trusted": true
      },
      "outputs": [],
      "execution_count": 23
    },
    {
      "id": "1095015f-5d58-4040-aacc-a738fa2bb060",
      "cell_type": "code",
      "source": "print(employee)",
      "metadata": {
        "trusted": true
      },
      "outputs": [
        {
          "name": "stdout",
          "output_type": "stream",
          "text": "(1, 'raman', 'Mexico', 753753895)\n"
        }
      ],
      "execution_count": 24
    },
    {
      "id": "5e1afaf2-31d5-45ad-bbda-a449c17c2742",
      "cell_type": "code",
      "source": "#the above is the alternative method in case you want to change anything in the table",
      "metadata": {
        "trusted": true
      },
      "outputs": [],
      "execution_count": 25
    },
    {
      "id": "aaf21c41-fa37-48c1-b458-e8d96bbcb39e",
      "cell_type": "code",
      "source": "for x in employee:\n    print(x)",
      "metadata": {
        "trusted": true
      },
      "outputs": [
        {
          "name": "stdout",
          "output_type": "stream",
          "text": "1\nraman\nMexico\n753753895\n"
        }
      ],
      "execution_count": 26
    },
    {
      "id": "5d3cba17-7d7c-4308-ab59-f390286b32f4",
      "cell_type": "code",
      "source": "print(employee.index('raman')) #find out index of an element within a tuple",
      "metadata": {
        "trusted": true
      },
      "outputs": [
        {
          "name": "stdout",
          "output_type": "stream",
          "text": "1\n"
        }
      ],
      "execution_count": 30
    },
    {
      "id": "ecaf68cf-1e82-443e-aba9-365c51063297",
      "cell_type": "code",
      "source": "#Lists: mutable, ordered, allow duplicates",
      "metadata": {
        "trusted": true
      },
      "outputs": [],
      "execution_count": 1
    },
    {
      "id": "3ffc96b8-d66c-476e-8db5-e29295d419a1",
      "cell_type": "code",
      "source": "tasks = ['Development', 'testing', 'monitoring']\nprint(tasks)",
      "metadata": {
        "trusted": true
      },
      "outputs": [
        {
          "name": "stdout",
          "output_type": "stream",
          "text": "['Development', 'testing', 'monitoring']\n"
        }
      ],
      "execution_count": 5
    },
    {
      "id": "02bd6a32-e4a7-4c66-b6bb-90f5bc45d446",
      "cell_type": "code",
      "source": "print(tasks[1]) #2nd element",
      "metadata": {
        "trusted": true
      },
      "outputs": [
        {
          "name": "stdout",
          "output_type": "stream",
          "text": "testing\n"
        }
      ],
      "execution_count": 6
    },
    {
      "id": "5fc98e71-d982-4369-9306-dfd5838508a1",
      "cell_type": "code",
      "source": "tasks[1] = 'New_testing'\nprint(tasks) #since lists are mutable",
      "metadata": {
        "trusted": true
      },
      "outputs": [
        {
          "name": "stdout",
          "output_type": "stream",
          "text": "['Development', 'New_testing', 'monitoring']\n"
        }
      ],
      "execution_count": 8
    },
    {
      "id": "2fd37bda-077d-4d19-a2e2-65e50ee5e0d8",
      "cell_type": "code",
      "source": "#appending elements\ntasks.append('Production deployment')",
      "metadata": {
        "trusted": true
      },
      "outputs": [],
      "execution_count": 9
    },
    {
      "id": "74b9ff0c-944d-4e15-85fb-3bc93c16bce7",
      "cell_type": "code",
      "source": "tasks",
      "metadata": {
        "trusted": true
      },
      "outputs": [
        {
          "execution_count": 10,
          "output_type": "execute_result",
          "data": {
            "text/plain": "['Development', 'New_testing', 'monitoring', 'Production deployment']"
          },
          "metadata": {}
        }
      ],
      "execution_count": 10
    },
    {
      "id": "a3f67fd1-2780-48b1-9448-a741baedfc3a",
      "cell_type": "code",
      "source": "tasks.insert(1, 'Unit testing') #added at the index",
      "metadata": {
        "trusted": true
      },
      "outputs": [],
      "execution_count": 11
    },
    {
      "id": "af67f5fe-fc2a-40ea-a776-c2d5a5a18412",
      "cell_type": "code",
      "source": "print(tasks)",
      "metadata": {
        "trusted": true
      },
      "outputs": [
        {
          "name": "stdout",
          "output_type": "stream",
          "text": "['Development', 'Unit testing', 'New_testing', 'monitoring', 'Production deployment']\n"
        }
      ],
      "execution_count": 12
    },
    {
      "id": "9b35f7e7-adbf-483b-911b-8c391cd49bd2",
      "cell_type": "code",
      "source": "tasks.remove('Unit testing')\nprint(tasks)",
      "metadata": {
        "trusted": true
      },
      "outputs": [
        {
          "name": "stdout",
          "output_type": "stream",
          "text": "['Development', 'New_testing', 'monitoring', 'Production deployment']\n"
        }
      ],
      "execution_count": 16
    },
    {
      "id": "644449c0-040f-4042-a09b-53e52307c568",
      "cell_type": "code",
      "source": "tasks.pop(3)",
      "metadata": {
        "trusted": true
      },
      "outputs": [
        {
          "execution_count": 18,
          "output_type": "execute_result",
          "data": {
            "text/plain": "'Production deployment'"
          },
          "metadata": {}
        }
      ],
      "execution_count": 18
    },
    {
      "id": "d8462156-400e-4401-bc94-e060acc28433",
      "cell_type": "code",
      "source": "print(tasks)",
      "metadata": {
        "trusted": true
      },
      "outputs": [
        {
          "name": "stdout",
          "output_type": "stream",
          "text": "['Development', 'New_testing', 'monitoring']\n"
        }
      ],
      "execution_count": 19
    },
    {
      "id": "e9693d5b-03a7-4e67-b9fb-18de74eb239a",
      "cell_type": "code",
      "source": "for x in tasks:\n    print(x)",
      "metadata": {
        "trusted": true
      },
      "outputs": [
        {
          "name": "stdout",
          "output_type": "stream",
          "text": "Development\nNew_testing\nmonitoring\n"
        }
      ],
      "execution_count": 20
    },
    {
      "id": "047efbaa-20b0-44d4-a615-5228fe53ab2f",
      "cell_type": "code",
      "source": "#Sets: cannot have 2 items with same value",
      "metadata": {
        "trusted": true
      },
      "outputs": [],
      "execution_count": 24
    },
    {
      "id": "2e252bf1-4e77-4b80-b696-e3b6205a57bb",
      "cell_type": "code",
      "source": "tasks = {'development', 'testing', 'monitoring'}",
      "metadata": {
        "trusted": true
      },
      "outputs": [],
      "execution_count": 22
    },
    {
      "id": "37bb5597-1b58-4320-b698-cac4343c0cbd",
      "cell_type": "code",
      "source": "print(tasks) #prints in random order since they are not ordered collections",
      "metadata": {
        "trusted": true
      },
      "outputs": [
        {
          "name": "stdout",
          "output_type": "stream",
          "text": "{'development', 'monitoring', 'testing'}\n"
        }
      ],
      "execution_count": 23
    },
    {
      "id": "97aa68d8-bdd7-4e7b-a32c-b6e6ef1f53c5",
      "cell_type": "code",
      "source": "tasks = {'development', 'testing', 'monitoring', 'testing'}",
      "metadata": {
        "trusted": true
      },
      "outputs": [],
      "execution_count": 25
    },
    {
      "id": "21e26811-92c1-4355-b867-a0214a7631d2",
      "cell_type": "code",
      "source": "print(tasks) #doesnt print testing twice",
      "metadata": {
        "trusted": true
      },
      "outputs": [
        {
          "name": "stdout",
          "output_type": "stream",
          "text": "{'development', 'monitoring', 'testing'}\n"
        }
      ],
      "execution_count": 27
    },
    {
      "id": "ab0213cd-b38b-4af3-8494-1581ccf9794c",
      "cell_type": "code",
      "source": "tasks.add('product development')\nprint(tasks)",
      "metadata": {
        "trusted": true
      },
      "outputs": [
        {
          "name": "stdout",
          "output_type": "stream",
          "text": "{'development', 'product development', 'monitoring', 'testing'}\n"
        }
      ],
      "execution_count": 28
    },
    {
      "id": "161e1504-e70d-405f-a286-aae78dc7f79f",
      "cell_type": "code",
      "source": "new_task = {'UAT testing', 'SIT testing'}\ntasks.update(new_task) \nprint(tasks)",
      "metadata": {
        "trusted": true
      },
      "outputs": [
        {
          "name": "stdout",
          "output_type": "stream",
          "text": "{'UAT testing', 'development', 'product development', 'monitoring', 'testing', 'SIT testing'}\n"
        }
      ],
      "execution_count": 29
    },
    {
      "id": "43066fb9-b7ac-4728-806b-291e9a075d58",
      "cell_type": "code",
      "source": "tasks.remove('SIT testing')",
      "metadata": {
        "trusted": true
      },
      "outputs": [],
      "execution_count": 31
    },
    {
      "id": "1dfb544b-1887-4d2a-a88a-7ef355a46f8c",
      "cell_type": "code",
      "source": "print(tasks)",
      "metadata": {
        "trusted": true
      },
      "outputs": [
        {
          "name": "stdout",
          "output_type": "stream",
          "text": "{'UAT testing', 'development', 'product development', 'monitoring', 'testing'}\n"
        }
      ],
      "execution_count": 32
    },
    {
      "id": "77e737c7-65fc-4299-8156-720e5708b3b4",
      "cell_type": "code",
      "source": "new_task.clear() #completely empties the task",
      "metadata": {
        "trusted": true
      },
      "outputs": [],
      "execution_count": 33
    },
    {
      "id": "656c3357-0662-4e12-9cfb-69e2f911d918",
      "cell_type": "code",
      "source": "print(new_task)",
      "metadata": {
        "trusted": true
      },
      "outputs": [
        {
          "name": "stdout",
          "output_type": "stream",
          "text": "set()\n"
        }
      ],
      "execution_count": 34
    },
    {
      "id": "78fdc9d0-e8d5-416f-aca2-96d8167e6349",
      "cell_type": "code",
      "source": "#Dictionaries- quick locate and manipulate specific data points\n#ordered, mutable, doesnt allow duplicates. initially unordered but now ordered\n#key-value pairs",
      "metadata": {
        "trusted": true
      },
      "outputs": [],
      "execution_count": 35
    },
    {
      "id": "7206c228-f3b8-4ba4-bd78-f0b18b46cb77",
      "cell_type": "code",
      "source": "user = { 'name': 'John', 'city':'Oxford', 'age':25}\nprint(user)",
      "metadata": {
        "trusted": true
      },
      "outputs": [
        {
          "name": "stdout",
          "output_type": "stream",
          "text": "{'name': 'John', 'city': 'Oxford', 'age': 25}\n"
        }
      ],
      "execution_count": 36
    },
    {
      "id": "848aabef-bcb8-407e-80b9-07ffbec2b072",
      "cell_type": "code",
      "source": "print(user['name'])",
      "metadata": {
        "trusted": true
      },
      "outputs": [
        {
          "name": "stdout",
          "output_type": "stream",
          "text": "John\n"
        }
      ],
      "execution_count": 40
    },
    {
      "id": "2e65ae6f-23a9-4550-8aa7-542ebc5ea7c1",
      "cell_type": "code",
      "source": "user.get('name')",
      "metadata": {
        "trusted": true
      },
      "outputs": [
        {
          "execution_count": 41,
          "output_type": "execute_result",
          "data": {
            "text/plain": "'John'"
          },
          "metadata": {}
        }
      ],
      "execution_count": 41
    },
    {
      "id": "f7f252c8-6655-45e8-85b0-f78c63ef9ad7",
      "cell_type": "code",
      "source": "keys = user.keys()",
      "metadata": {
        "trusted": true
      },
      "outputs": [],
      "execution_count": 42
    },
    {
      "id": "8097c165-c519-47cb-8b43-b39c6f7f37d1",
      "cell_type": "code",
      "source": "print(keys)",
      "metadata": {
        "trusted": true
      },
      "outputs": [
        {
          "name": "stdout",
          "output_type": "stream",
          "text": "dict_keys(['name', 'city', 'age'])\n"
        }
      ],
      "execution_count": 43
    },
    {
      "id": "3253a7c9-c714-4af7-9de9-a4bb05d516e2",
      "cell_type": "code",
      "source": "print(user.values()) #printing just values",
      "metadata": {
        "trusted": true
      },
      "outputs": [
        {
          "name": "stdout",
          "output_type": "stream",
          "text": "dict_values(['John', 'Oxford', 25])\n"
        }
      ],
      "execution_count": 44
    },
    {
      "id": "eaf29950-d20a-4a4d-8f6a-3048c859d062",
      "cell_type": "code",
      "source": "if 'name' in user:\n    print('yes')",
      "metadata": {
        "trusted": true
      },
      "outputs": [
        {
          "name": "stdout",
          "output_type": "stream",
          "text": "yes\n"
        }
      ],
      "execution_count": 48
    },
    {
      "id": "b7ca200b-5512-449f-b923-455c79d7c803",
      "cell_type": "code",
      "source": "user['city']='cambridge'\nprint(user)",
      "metadata": {
        "trusted": true
      },
      "outputs": [
        {
          "name": "stdout",
          "output_type": "stream",
          "text": "{'name': 'John', 'city': 'cambridge', 'age': 25}\n"
        }
      ],
      "execution_count": 50
    },
    {
      "id": "bb2ee8b5-65dc-4580-b5d1-8b417dedc09c",
      "cell_type": "code",
      "source": "user.update({'town':'xxxxx'})\nprint(user)",
      "metadata": {
        "trusted": true
      },
      "outputs": [
        {
          "name": "stdout",
          "output_type": "stream",
          "text": "{'name': 'John', 'city': 'cambridge', 'age': 25, 'town': 'xxxxx'}\n"
        }
      ],
      "execution_count": 52
    },
    {
      "id": "6e5065b8-ea4f-4656-8b71-a157491ecfa5",
      "cell_type": "code",
      "source": "user.pop('town') #removed the name key value pair",
      "metadata": {
        "trusted": true
      },
      "outputs": [
        {
          "execution_count": 58,
          "output_type": "execute_result",
          "data": {
            "text/plain": "'xxxxx'"
          },
          "metadata": {}
        }
      ],
      "execution_count": 58
    },
    {
      "id": "0c1103e5-5547-41a1-b551-0e41b3f98695",
      "cell_type": "code",
      "source": "print(user)",
      "metadata": {
        "trusted": true
      },
      "outputs": [
        {
          "name": "stdout",
          "output_type": "stream",
          "text": "{'city': 'cambridge', 'age': 25}\n"
        }
      ],
      "execution_count": 59
    },
    {
      "id": "eceb4800-c14f-4112-8810-5c932a6a1a4d",
      "cell_type": "code",
      "source": "for x in user.keys():\n    print(x)\n    print(user[x])\n    ",
      "metadata": {
        "trusted": true
      },
      "outputs": [
        {
          "name": "stdout",
          "output_type": "stream",
          "text": "city\ncambridge\nage\n25\n"
        }
      ],
      "execution_count": 62
    },
    {
      "id": "67c984f0-7b08-499f-af54-1db4c218e2bc",
      "cell_type": "raw",
      "source": "new_user = user\nprint(user)",
      "metadata": {}
    },
    {
      "id": "f956247d-1c01-4420-a911-5e015c39caa0",
      "cell_type": "code",
      "source": "print(user)",
      "metadata": {
        "trusted": true
      },
      "outputs": [
        {
          "name": "stdout",
          "output_type": "stream",
          "text": "{'city': 'cambridge', 'age': 25}\n"
        }
      ],
      "execution_count": 65
    },
    {
      "id": "7dde36fb-9e3c-4d7c-a5bd-f16ee8532152",
      "cell_type": "code",
      "source": "new_user.update({'mobile': xxx})\n",
      "metadata": {
        "trusted": true
      },
      "outputs": [
        {
          "ename": "<class 'NameError'>",
          "evalue": "name 'new_user' is not defined",
          "traceback": [
            "\u001b[0;31m---------------------------------------------------------------------------\u001b[0m",
            "\u001b[0;31mNameError\u001b[0m                                 Traceback (most recent call last)",
            "Cell \u001b[0;32mIn[67], line 1\u001b[0m\n\u001b[0;32m----> 1\u001b[0m \u001b[43mnew_user\u001b[49m\u001b[38;5;241m.\u001b[39mupdate({\u001b[38;5;124m'\u001b[39m\u001b[38;5;124mmobile\u001b[39m\u001b[38;5;124m'\u001b[39m: xxx})\n",
            "\u001b[0;31mNameError\u001b[0m: name 'new_user' is not defined"
          ],
          "output_type": "error"
        }
      ],
      "execution_count": 67
    },
    {
      "id": "519855b5-e0b0-4e23-8042-ed507e203cbd",
      "cell_type": "code",
      "source": "",
      "metadata": {
        "trusted": true
      },
      "outputs": [],
      "execution_count": null
    }
  ]
}